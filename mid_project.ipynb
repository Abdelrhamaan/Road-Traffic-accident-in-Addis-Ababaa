{
 "cells": [
  {
   "cell_type": "markdown",
   "metadata": {},
   "source": [
    "## Importing libraries and exploring data"
   ]
  },
  {
   "cell_type": "code",
   "execution_count": 1077,
   "metadata": {},
   "outputs": [],
   "source": [
    "import pandas as pd\n",
    "import numpy as np\n",
    "import matplotlib.pyplot as plt\n",
    "import seaborn as sns\n",
    "%matplotlib inline"
   ]
  },
  {
   "cell_type": "code",
   "execution_count": 1078,
   "metadata": {},
   "outputs": [
    {
     "name": "stdout",
     "output_type": "stream",
     "text": [
      "<class 'pandas.core.frame.DataFrame'>\n",
      "RangeIndex: 12316 entries, 0 to 12315\n",
      "Data columns (total 32 columns):\n",
      " #   Column                       Non-Null Count  Dtype \n",
      "---  ------                       --------------  ----- \n",
      " 0   Time                         12316 non-null  object\n",
      " 1   Day_of_week                  12316 non-null  object\n",
      " 2   Age_band_of_driver           12316 non-null  object\n",
      " 3   Sex_of_driver                12316 non-null  object\n",
      " 4   Educational_level            11575 non-null  object\n",
      " 5   Vehicle_driver_relation      11737 non-null  object\n",
      " 6   Driving_experience           11487 non-null  object\n",
      " 7   Type_of_vehicle              11366 non-null  object\n",
      " 8   Owner_of_vehicle             11834 non-null  object\n",
      " 9   Service_year_of_vehicle      8388 non-null   object\n",
      " 10  Defect_of_vehicle            7889 non-null   object\n",
      " 11  Area_accident_occured        12077 non-null  object\n",
      " 12  Lanes_or_Medians             11931 non-null  object\n",
      " 13  Road_allignment              12174 non-null  object\n",
      " 14  Types_of_Junction            11429 non-null  object\n",
      " 15  Road_surface_type            12144 non-null  object\n",
      " 16  Road_surface_conditions      12316 non-null  object\n",
      " 17  Light_conditions             12316 non-null  object\n",
      " 18  Weather_conditions           12316 non-null  object\n",
      " 19  Type_of_collision            12161 non-null  object\n",
      " 20  Number_of_vehicles_involved  12316 non-null  int64 \n",
      " 21  Number_of_casualties         12316 non-null  int64 \n",
      " 22  Vehicle_movement             12008 non-null  object\n",
      " 23  Casualty_class               12316 non-null  object\n",
      " 24  Sex_of_casualty              12316 non-null  object\n",
      " 25  Age_band_of_casualty         12316 non-null  object\n",
      " 26  Casualty_severity            12316 non-null  object\n",
      " 27  Work_of_casuality            9118 non-null   object\n",
      " 28  Fitness_of_casuality         9681 non-null   object\n",
      " 29  Pedestrian_movement          12316 non-null  object\n",
      " 30  Cause_of_accident            12316 non-null  object\n",
      " 31  Accident_severity            12316 non-null  object\n",
      "dtypes: int64(2), object(30)\n",
      "memory usage: 3.0+ MB\n"
     ]
    }
   ],
   "source": [
    "df=pd.read_csv('E:\\\\Epsilon\\\\22-session\\\\01-code\\\\data\\\\RTA Dataset.csv')\n",
    "df.info()"
   ]
  },
  {
   "cell_type": "code",
   "execution_count": 1079,
   "metadata": {},
   "outputs": [
    {
     "data": {
      "text/html": [
       "<div>\n",
       "<style scoped>\n",
       "    .dataframe tbody tr th:only-of-type {\n",
       "        vertical-align: middle;\n",
       "    }\n",
       "\n",
       "    .dataframe tbody tr th {\n",
       "        vertical-align: top;\n",
       "    }\n",
       "\n",
       "    .dataframe thead th {\n",
       "        text-align: right;\n",
       "    }\n",
       "</style>\n",
       "<table border=\"1\" class=\"dataframe\">\n",
       "  <thead>\n",
       "    <tr style=\"text-align: right;\">\n",
       "      <th></th>\n",
       "      <th>Time</th>\n",
       "      <th>Day_of_week</th>\n",
       "      <th>Age_band_of_driver</th>\n",
       "      <th>Sex_of_driver</th>\n",
       "      <th>Educational_level</th>\n",
       "      <th>Vehicle_driver_relation</th>\n",
       "      <th>Driving_experience</th>\n",
       "      <th>Type_of_vehicle</th>\n",
       "      <th>Owner_of_vehicle</th>\n",
       "      <th>Service_year_of_vehicle</th>\n",
       "      <th>...</th>\n",
       "      <th>Vehicle_movement</th>\n",
       "      <th>Casualty_class</th>\n",
       "      <th>Sex_of_casualty</th>\n",
       "      <th>Age_band_of_casualty</th>\n",
       "      <th>Casualty_severity</th>\n",
       "      <th>Work_of_casuality</th>\n",
       "      <th>Fitness_of_casuality</th>\n",
       "      <th>Pedestrian_movement</th>\n",
       "      <th>Cause_of_accident</th>\n",
       "      <th>Accident_severity</th>\n",
       "    </tr>\n",
       "  </thead>\n",
       "  <tbody>\n",
       "    <tr>\n",
       "      <th>0</th>\n",
       "      <td>17:02:00</td>\n",
       "      <td>Monday</td>\n",
       "      <td>18-30</td>\n",
       "      <td>Male</td>\n",
       "      <td>Above high school</td>\n",
       "      <td>Employee</td>\n",
       "      <td>1-2yr</td>\n",
       "      <td>Automobile</td>\n",
       "      <td>Owner</td>\n",
       "      <td>Above 10yr</td>\n",
       "      <td>...</td>\n",
       "      <td>Going straight</td>\n",
       "      <td>na</td>\n",
       "      <td>na</td>\n",
       "      <td>na</td>\n",
       "      <td>na</td>\n",
       "      <td>NaN</td>\n",
       "      <td>NaN</td>\n",
       "      <td>Not a Pedestrian</td>\n",
       "      <td>Moving Backward</td>\n",
       "      <td>Slight Injury</td>\n",
       "    </tr>\n",
       "    <tr>\n",
       "      <th>1</th>\n",
       "      <td>17:02:00</td>\n",
       "      <td>Monday</td>\n",
       "      <td>31-50</td>\n",
       "      <td>Male</td>\n",
       "      <td>Junior high school</td>\n",
       "      <td>Employee</td>\n",
       "      <td>Above 10yr</td>\n",
       "      <td>Public (&gt; 45 seats)</td>\n",
       "      <td>Owner</td>\n",
       "      <td>5-10yrs</td>\n",
       "      <td>...</td>\n",
       "      <td>Going straight</td>\n",
       "      <td>na</td>\n",
       "      <td>na</td>\n",
       "      <td>na</td>\n",
       "      <td>na</td>\n",
       "      <td>NaN</td>\n",
       "      <td>NaN</td>\n",
       "      <td>Not a Pedestrian</td>\n",
       "      <td>Overtaking</td>\n",
       "      <td>Slight Injury</td>\n",
       "    </tr>\n",
       "    <tr>\n",
       "      <th>2</th>\n",
       "      <td>17:02:00</td>\n",
       "      <td>Monday</td>\n",
       "      <td>18-30</td>\n",
       "      <td>Male</td>\n",
       "      <td>Junior high school</td>\n",
       "      <td>Employee</td>\n",
       "      <td>1-2yr</td>\n",
       "      <td>Lorry (41?100Q)</td>\n",
       "      <td>Owner</td>\n",
       "      <td>NaN</td>\n",
       "      <td>...</td>\n",
       "      <td>Going straight</td>\n",
       "      <td>Driver or rider</td>\n",
       "      <td>Male</td>\n",
       "      <td>31-50</td>\n",
       "      <td>3</td>\n",
       "      <td>Driver</td>\n",
       "      <td>NaN</td>\n",
       "      <td>Not a Pedestrian</td>\n",
       "      <td>Changing lane to the left</td>\n",
       "      <td>Serious Injury</td>\n",
       "    </tr>\n",
       "    <tr>\n",
       "      <th>3</th>\n",
       "      <td>1:06:00</td>\n",
       "      <td>Sunday</td>\n",
       "      <td>18-30</td>\n",
       "      <td>Male</td>\n",
       "      <td>Junior high school</td>\n",
       "      <td>Employee</td>\n",
       "      <td>5-10yr</td>\n",
       "      <td>Public (&gt; 45 seats)</td>\n",
       "      <td>Governmental</td>\n",
       "      <td>NaN</td>\n",
       "      <td>...</td>\n",
       "      <td>Going straight</td>\n",
       "      <td>Pedestrian</td>\n",
       "      <td>Female</td>\n",
       "      <td>18-30</td>\n",
       "      <td>3</td>\n",
       "      <td>Driver</td>\n",
       "      <td>Normal</td>\n",
       "      <td>Not a Pedestrian</td>\n",
       "      <td>Changing lane to the right</td>\n",
       "      <td>Slight Injury</td>\n",
       "    </tr>\n",
       "    <tr>\n",
       "      <th>4</th>\n",
       "      <td>1:06:00</td>\n",
       "      <td>Sunday</td>\n",
       "      <td>18-30</td>\n",
       "      <td>Male</td>\n",
       "      <td>Junior high school</td>\n",
       "      <td>Employee</td>\n",
       "      <td>2-5yr</td>\n",
       "      <td>NaN</td>\n",
       "      <td>Owner</td>\n",
       "      <td>5-10yrs</td>\n",
       "      <td>...</td>\n",
       "      <td>Going straight</td>\n",
       "      <td>na</td>\n",
       "      <td>na</td>\n",
       "      <td>na</td>\n",
       "      <td>na</td>\n",
       "      <td>NaN</td>\n",
       "      <td>NaN</td>\n",
       "      <td>Not a Pedestrian</td>\n",
       "      <td>Overtaking</td>\n",
       "      <td>Slight Injury</td>\n",
       "    </tr>\n",
       "  </tbody>\n",
       "</table>\n",
       "<p>5 rows × 32 columns</p>\n",
       "</div>"
      ],
      "text/plain": [
       "       Time Day_of_week Age_band_of_driver Sex_of_driver   Educational_level  \\\n",
       "0  17:02:00      Monday              18-30          Male   Above high school   \n",
       "1  17:02:00      Monday              31-50          Male  Junior high school   \n",
       "2  17:02:00      Monday              18-30          Male  Junior high school   \n",
       "3   1:06:00      Sunday              18-30          Male  Junior high school   \n",
       "4   1:06:00      Sunday              18-30          Male  Junior high school   \n",
       "\n",
       "  Vehicle_driver_relation Driving_experience      Type_of_vehicle  \\\n",
       "0                Employee              1-2yr           Automobile   \n",
       "1                Employee         Above 10yr  Public (> 45 seats)   \n",
       "2                Employee              1-2yr      Lorry (41?100Q)   \n",
       "3                Employee             5-10yr  Public (> 45 seats)   \n",
       "4                Employee              2-5yr                  NaN   \n",
       "\n",
       "  Owner_of_vehicle Service_year_of_vehicle  ... Vehicle_movement  \\\n",
       "0            Owner              Above 10yr  ...   Going straight   \n",
       "1            Owner                 5-10yrs  ...   Going straight   \n",
       "2            Owner                     NaN  ...   Going straight   \n",
       "3     Governmental                     NaN  ...   Going straight   \n",
       "4            Owner                 5-10yrs  ...   Going straight   \n",
       "\n",
       "    Casualty_class Sex_of_casualty Age_band_of_casualty Casualty_severity  \\\n",
       "0               na              na                   na                na   \n",
       "1               na              na                   na                na   \n",
       "2  Driver or rider            Male                31-50                 3   \n",
       "3       Pedestrian          Female                18-30                 3   \n",
       "4               na              na                   na                na   \n",
       "\n",
       "  Work_of_casuality Fitness_of_casuality Pedestrian_movement  \\\n",
       "0               NaN                  NaN    Not a Pedestrian   \n",
       "1               NaN                  NaN    Not a Pedestrian   \n",
       "2            Driver                  NaN    Not a Pedestrian   \n",
       "3            Driver               Normal    Not a Pedestrian   \n",
       "4               NaN                  NaN    Not a Pedestrian   \n",
       "\n",
       "            Cause_of_accident Accident_severity  \n",
       "0             Moving Backward     Slight Injury  \n",
       "1                  Overtaking     Slight Injury  \n",
       "2   Changing lane to the left    Serious Injury  \n",
       "3  Changing lane to the right     Slight Injury  \n",
       "4                  Overtaking     Slight Injury  \n",
       "\n",
       "[5 rows x 32 columns]"
      ]
     },
     "execution_count": 1079,
     "metadata": {},
     "output_type": "execute_result"
    }
   ],
   "source": [
    "df.head()"
   ]
  },
  {
   "cell_type": "markdown",
   "metadata": {},
   "source": [
    "## changing time feature to time series and creating new features"
   ]
  },
  {
   "cell_type": "code",
   "execution_count": 1080,
   "metadata": {},
   "outputs": [],
   "source": [
    "df['Time']=pd.to_datetime(df['Time'])"
   ]
  },
  {
   "cell_type": "code",
   "execution_count": 1081,
   "metadata": {},
   "outputs": [],
   "source": [
    "df['year']=df['Time'].dt.year\n",
    "df['month']=df['Time'].dt.month\n",
    "df['hour']=df['Time'].dt.hour"
   ]
  },
  {
   "cell_type": "code",
   "execution_count": 1082,
   "metadata": {},
   "outputs": [
    {
     "data": {
      "text/html": [
       "<div>\n",
       "<style scoped>\n",
       "    .dataframe tbody tr th:only-of-type {\n",
       "        vertical-align: middle;\n",
       "    }\n",
       "\n",
       "    .dataframe tbody tr th {\n",
       "        vertical-align: top;\n",
       "    }\n",
       "\n",
       "    .dataframe thead th {\n",
       "        text-align: right;\n",
       "    }\n",
       "</style>\n",
       "<table border=\"1\" class=\"dataframe\">\n",
       "  <thead>\n",
       "    <tr style=\"text-align: right;\">\n",
       "      <th></th>\n",
       "      <th>Time</th>\n",
       "      <th>Day_of_week</th>\n",
       "      <th>Age_band_of_driver</th>\n",
       "      <th>Sex_of_driver</th>\n",
       "      <th>Educational_level</th>\n",
       "      <th>Vehicle_driver_relation</th>\n",
       "      <th>Driving_experience</th>\n",
       "      <th>Type_of_vehicle</th>\n",
       "      <th>Owner_of_vehicle</th>\n",
       "      <th>Service_year_of_vehicle</th>\n",
       "      <th>...</th>\n",
       "      <th>Age_band_of_casualty</th>\n",
       "      <th>Casualty_severity</th>\n",
       "      <th>Work_of_casuality</th>\n",
       "      <th>Fitness_of_casuality</th>\n",
       "      <th>Pedestrian_movement</th>\n",
       "      <th>Cause_of_accident</th>\n",
       "      <th>Accident_severity</th>\n",
       "      <th>year</th>\n",
       "      <th>month</th>\n",
       "      <th>hour</th>\n",
       "    </tr>\n",
       "  </thead>\n",
       "  <tbody>\n",
       "    <tr>\n",
       "      <th>0</th>\n",
       "      <td>2022-10-07 17:02:00</td>\n",
       "      <td>Monday</td>\n",
       "      <td>18-30</td>\n",
       "      <td>Male</td>\n",
       "      <td>Above high school</td>\n",
       "      <td>Employee</td>\n",
       "      <td>1-2yr</td>\n",
       "      <td>Automobile</td>\n",
       "      <td>Owner</td>\n",
       "      <td>Above 10yr</td>\n",
       "      <td>...</td>\n",
       "      <td>na</td>\n",
       "      <td>na</td>\n",
       "      <td>NaN</td>\n",
       "      <td>NaN</td>\n",
       "      <td>Not a Pedestrian</td>\n",
       "      <td>Moving Backward</td>\n",
       "      <td>Slight Injury</td>\n",
       "      <td>2022</td>\n",
       "      <td>10</td>\n",
       "      <td>17</td>\n",
       "    </tr>\n",
       "    <tr>\n",
       "      <th>1</th>\n",
       "      <td>2022-10-07 17:02:00</td>\n",
       "      <td>Monday</td>\n",
       "      <td>31-50</td>\n",
       "      <td>Male</td>\n",
       "      <td>Junior high school</td>\n",
       "      <td>Employee</td>\n",
       "      <td>Above 10yr</td>\n",
       "      <td>Public (&gt; 45 seats)</td>\n",
       "      <td>Owner</td>\n",
       "      <td>5-10yrs</td>\n",
       "      <td>...</td>\n",
       "      <td>na</td>\n",
       "      <td>na</td>\n",
       "      <td>NaN</td>\n",
       "      <td>NaN</td>\n",
       "      <td>Not a Pedestrian</td>\n",
       "      <td>Overtaking</td>\n",
       "      <td>Slight Injury</td>\n",
       "      <td>2022</td>\n",
       "      <td>10</td>\n",
       "      <td>17</td>\n",
       "    </tr>\n",
       "    <tr>\n",
       "      <th>2</th>\n",
       "      <td>2022-10-07 17:02:00</td>\n",
       "      <td>Monday</td>\n",
       "      <td>18-30</td>\n",
       "      <td>Male</td>\n",
       "      <td>Junior high school</td>\n",
       "      <td>Employee</td>\n",
       "      <td>1-2yr</td>\n",
       "      <td>Lorry (41?100Q)</td>\n",
       "      <td>Owner</td>\n",
       "      <td>NaN</td>\n",
       "      <td>...</td>\n",
       "      <td>31-50</td>\n",
       "      <td>3</td>\n",
       "      <td>Driver</td>\n",
       "      <td>NaN</td>\n",
       "      <td>Not a Pedestrian</td>\n",
       "      <td>Changing lane to the left</td>\n",
       "      <td>Serious Injury</td>\n",
       "      <td>2022</td>\n",
       "      <td>10</td>\n",
       "      <td>17</td>\n",
       "    </tr>\n",
       "    <tr>\n",
       "      <th>3</th>\n",
       "      <td>2022-10-07 01:06:00</td>\n",
       "      <td>Sunday</td>\n",
       "      <td>18-30</td>\n",
       "      <td>Male</td>\n",
       "      <td>Junior high school</td>\n",
       "      <td>Employee</td>\n",
       "      <td>5-10yr</td>\n",
       "      <td>Public (&gt; 45 seats)</td>\n",
       "      <td>Governmental</td>\n",
       "      <td>NaN</td>\n",
       "      <td>...</td>\n",
       "      <td>18-30</td>\n",
       "      <td>3</td>\n",
       "      <td>Driver</td>\n",
       "      <td>Normal</td>\n",
       "      <td>Not a Pedestrian</td>\n",
       "      <td>Changing lane to the right</td>\n",
       "      <td>Slight Injury</td>\n",
       "      <td>2022</td>\n",
       "      <td>10</td>\n",
       "      <td>1</td>\n",
       "    </tr>\n",
       "    <tr>\n",
       "      <th>4</th>\n",
       "      <td>2022-10-07 01:06:00</td>\n",
       "      <td>Sunday</td>\n",
       "      <td>18-30</td>\n",
       "      <td>Male</td>\n",
       "      <td>Junior high school</td>\n",
       "      <td>Employee</td>\n",
       "      <td>2-5yr</td>\n",
       "      <td>NaN</td>\n",
       "      <td>Owner</td>\n",
       "      <td>5-10yrs</td>\n",
       "      <td>...</td>\n",
       "      <td>na</td>\n",
       "      <td>na</td>\n",
       "      <td>NaN</td>\n",
       "      <td>NaN</td>\n",
       "      <td>Not a Pedestrian</td>\n",
       "      <td>Overtaking</td>\n",
       "      <td>Slight Injury</td>\n",
       "      <td>2022</td>\n",
       "      <td>10</td>\n",
       "      <td>1</td>\n",
       "    </tr>\n",
       "  </tbody>\n",
       "</table>\n",
       "<p>5 rows × 35 columns</p>\n",
       "</div>"
      ],
      "text/plain": [
       "                 Time Day_of_week Age_band_of_driver Sex_of_driver  \\\n",
       "0 2022-10-07 17:02:00      Monday              18-30          Male   \n",
       "1 2022-10-07 17:02:00      Monday              31-50          Male   \n",
       "2 2022-10-07 17:02:00      Monday              18-30          Male   \n",
       "3 2022-10-07 01:06:00      Sunday              18-30          Male   \n",
       "4 2022-10-07 01:06:00      Sunday              18-30          Male   \n",
       "\n",
       "    Educational_level Vehicle_driver_relation Driving_experience  \\\n",
       "0   Above high school                Employee              1-2yr   \n",
       "1  Junior high school                Employee         Above 10yr   \n",
       "2  Junior high school                Employee              1-2yr   \n",
       "3  Junior high school                Employee             5-10yr   \n",
       "4  Junior high school                Employee              2-5yr   \n",
       "\n",
       "       Type_of_vehicle Owner_of_vehicle Service_year_of_vehicle  ...  \\\n",
       "0           Automobile            Owner              Above 10yr  ...   \n",
       "1  Public (> 45 seats)            Owner                 5-10yrs  ...   \n",
       "2      Lorry (41?100Q)            Owner                     NaN  ...   \n",
       "3  Public (> 45 seats)     Governmental                     NaN  ...   \n",
       "4                  NaN            Owner                 5-10yrs  ...   \n",
       "\n",
       "  Age_band_of_casualty Casualty_severity Work_of_casuality  \\\n",
       "0                   na                na               NaN   \n",
       "1                   na                na               NaN   \n",
       "2                31-50                 3            Driver   \n",
       "3                18-30                 3            Driver   \n",
       "4                   na                na               NaN   \n",
       "\n",
       "  Fitness_of_casuality Pedestrian_movement           Cause_of_accident  \\\n",
       "0                  NaN    Not a Pedestrian             Moving Backward   \n",
       "1                  NaN    Not a Pedestrian                  Overtaking   \n",
       "2                  NaN    Not a Pedestrian   Changing lane to the left   \n",
       "3               Normal    Not a Pedestrian  Changing lane to the right   \n",
       "4                  NaN    Not a Pedestrian                  Overtaking   \n",
       "\n",
       "  Accident_severity  year month hour  \n",
       "0     Slight Injury  2022    10   17  \n",
       "1     Slight Injury  2022    10   17  \n",
       "2    Serious Injury  2022    10   17  \n",
       "3     Slight Injury  2022    10    1  \n",
       "4     Slight Injury  2022    10    1  \n",
       "\n",
       "[5 rows x 35 columns]"
      ]
     },
     "execution_count": 1082,
     "metadata": {},
     "output_type": "execute_result"
    }
   ],
   "source": [
    "df.head()"
   ]
  },
  {
   "cell_type": "code",
   "execution_count": 1083,
   "metadata": {},
   "outputs": [
    {
     "data": {
      "text/html": [
       "<div>\n",
       "<style scoped>\n",
       "    .dataframe tbody tr th:only-of-type {\n",
       "        vertical-align: middle;\n",
       "    }\n",
       "\n",
       "    .dataframe tbody tr th {\n",
       "        vertical-align: top;\n",
       "    }\n",
       "\n",
       "    .dataframe thead th {\n",
       "        text-align: right;\n",
       "    }\n",
       "</style>\n",
       "<table border=\"1\" class=\"dataframe\">\n",
       "  <thead>\n",
       "    <tr style=\"text-align: right;\">\n",
       "      <th></th>\n",
       "      <th>Time</th>\n",
       "      <th>Day_of_week</th>\n",
       "      <th>Age_band_of_driver</th>\n",
       "      <th>Sex_of_driver</th>\n",
       "      <th>Educational_level</th>\n",
       "      <th>Vehicle_driver_relation</th>\n",
       "      <th>Driving_experience</th>\n",
       "      <th>Type_of_vehicle</th>\n",
       "      <th>Owner_of_vehicle</th>\n",
       "      <th>Service_year_of_vehicle</th>\n",
       "      <th>...</th>\n",
       "      <th>Casualty_severity</th>\n",
       "      <th>Work_of_casuality</th>\n",
       "      <th>Fitness_of_casuality</th>\n",
       "      <th>Pedestrian_movement</th>\n",
       "      <th>Cause_of_accident</th>\n",
       "      <th>Accident_severity</th>\n",
       "      <th>year</th>\n",
       "      <th>month</th>\n",
       "      <th>hour</th>\n",
       "      <th>day_period</th>\n",
       "    </tr>\n",
       "  </thead>\n",
       "  <tbody>\n",
       "    <tr>\n",
       "      <th>0</th>\n",
       "      <td>2022-10-07 17:02:00</td>\n",
       "      <td>Monday</td>\n",
       "      <td>18-30</td>\n",
       "      <td>Male</td>\n",
       "      <td>Above high school</td>\n",
       "      <td>Employee</td>\n",
       "      <td>1-2yr</td>\n",
       "      <td>Automobile</td>\n",
       "      <td>Owner</td>\n",
       "      <td>Above 10yr</td>\n",
       "      <td>...</td>\n",
       "      <td>na</td>\n",
       "      <td>NaN</td>\n",
       "      <td>NaN</td>\n",
       "      <td>Not a Pedestrian</td>\n",
       "      <td>Moving Backward</td>\n",
       "      <td>Slight Injury</td>\n",
       "      <td>2022</td>\n",
       "      <td>10</td>\n",
       "      <td>17</td>\n",
       "      <td>afternoon</td>\n",
       "    </tr>\n",
       "    <tr>\n",
       "      <th>1</th>\n",
       "      <td>2022-10-07 17:02:00</td>\n",
       "      <td>Monday</td>\n",
       "      <td>31-50</td>\n",
       "      <td>Male</td>\n",
       "      <td>Junior high school</td>\n",
       "      <td>Employee</td>\n",
       "      <td>Above 10yr</td>\n",
       "      <td>Public (&gt; 45 seats)</td>\n",
       "      <td>Owner</td>\n",
       "      <td>5-10yrs</td>\n",
       "      <td>...</td>\n",
       "      <td>na</td>\n",
       "      <td>NaN</td>\n",
       "      <td>NaN</td>\n",
       "      <td>Not a Pedestrian</td>\n",
       "      <td>Overtaking</td>\n",
       "      <td>Slight Injury</td>\n",
       "      <td>2022</td>\n",
       "      <td>10</td>\n",
       "      <td>17</td>\n",
       "      <td>afternoon</td>\n",
       "    </tr>\n",
       "    <tr>\n",
       "      <th>2</th>\n",
       "      <td>2022-10-07 17:02:00</td>\n",
       "      <td>Monday</td>\n",
       "      <td>18-30</td>\n",
       "      <td>Male</td>\n",
       "      <td>Junior high school</td>\n",
       "      <td>Employee</td>\n",
       "      <td>1-2yr</td>\n",
       "      <td>Lorry (41?100Q)</td>\n",
       "      <td>Owner</td>\n",
       "      <td>NaN</td>\n",
       "      <td>...</td>\n",
       "      <td>3</td>\n",
       "      <td>Driver</td>\n",
       "      <td>NaN</td>\n",
       "      <td>Not a Pedestrian</td>\n",
       "      <td>Changing lane to the left</td>\n",
       "      <td>Serious Injury</td>\n",
       "      <td>2022</td>\n",
       "      <td>10</td>\n",
       "      <td>17</td>\n",
       "      <td>afternoon</td>\n",
       "    </tr>\n",
       "    <tr>\n",
       "      <th>3</th>\n",
       "      <td>2022-10-07 01:06:00</td>\n",
       "      <td>Sunday</td>\n",
       "      <td>18-30</td>\n",
       "      <td>Male</td>\n",
       "      <td>Junior high school</td>\n",
       "      <td>Employee</td>\n",
       "      <td>5-10yr</td>\n",
       "      <td>Public (&gt; 45 seats)</td>\n",
       "      <td>Governmental</td>\n",
       "      <td>NaN</td>\n",
       "      <td>...</td>\n",
       "      <td>3</td>\n",
       "      <td>Driver</td>\n",
       "      <td>Normal</td>\n",
       "      <td>Not a Pedestrian</td>\n",
       "      <td>Changing lane to the right</td>\n",
       "      <td>Slight Injury</td>\n",
       "      <td>2022</td>\n",
       "      <td>10</td>\n",
       "      <td>1</td>\n",
       "      <td>evening</td>\n",
       "    </tr>\n",
       "    <tr>\n",
       "      <th>4</th>\n",
       "      <td>2022-10-07 01:06:00</td>\n",
       "      <td>Sunday</td>\n",
       "      <td>18-30</td>\n",
       "      <td>Male</td>\n",
       "      <td>Junior high school</td>\n",
       "      <td>Employee</td>\n",
       "      <td>2-5yr</td>\n",
       "      <td>NaN</td>\n",
       "      <td>Owner</td>\n",
       "      <td>5-10yrs</td>\n",
       "      <td>...</td>\n",
       "      <td>na</td>\n",
       "      <td>NaN</td>\n",
       "      <td>NaN</td>\n",
       "      <td>Not a Pedestrian</td>\n",
       "      <td>Overtaking</td>\n",
       "      <td>Slight Injury</td>\n",
       "      <td>2022</td>\n",
       "      <td>10</td>\n",
       "      <td>1</td>\n",
       "      <td>evening</td>\n",
       "    </tr>\n",
       "  </tbody>\n",
       "</table>\n",
       "<p>5 rows × 36 columns</p>\n",
       "</div>"
      ],
      "text/plain": [
       "                 Time Day_of_week Age_band_of_driver Sex_of_driver  \\\n",
       "0 2022-10-07 17:02:00      Monday              18-30          Male   \n",
       "1 2022-10-07 17:02:00      Monday              31-50          Male   \n",
       "2 2022-10-07 17:02:00      Monday              18-30          Male   \n",
       "3 2022-10-07 01:06:00      Sunday              18-30          Male   \n",
       "4 2022-10-07 01:06:00      Sunday              18-30          Male   \n",
       "\n",
       "    Educational_level Vehicle_driver_relation Driving_experience  \\\n",
       "0   Above high school                Employee              1-2yr   \n",
       "1  Junior high school                Employee         Above 10yr   \n",
       "2  Junior high school                Employee              1-2yr   \n",
       "3  Junior high school                Employee             5-10yr   \n",
       "4  Junior high school                Employee              2-5yr   \n",
       "\n",
       "       Type_of_vehicle Owner_of_vehicle Service_year_of_vehicle  ...  \\\n",
       "0           Automobile            Owner              Above 10yr  ...   \n",
       "1  Public (> 45 seats)            Owner                 5-10yrs  ...   \n",
       "2      Lorry (41?100Q)            Owner                     NaN  ...   \n",
       "3  Public (> 45 seats)     Governmental                     NaN  ...   \n",
       "4                  NaN            Owner                 5-10yrs  ...   \n",
       "\n",
       "  Casualty_severity Work_of_casuality Fitness_of_casuality  \\\n",
       "0                na               NaN                  NaN   \n",
       "1                na               NaN                  NaN   \n",
       "2                 3            Driver                  NaN   \n",
       "3                 3            Driver               Normal   \n",
       "4                na               NaN                  NaN   \n",
       "\n",
       "  Pedestrian_movement           Cause_of_accident Accident_severity  year  \\\n",
       "0    Not a Pedestrian             Moving Backward     Slight Injury  2022   \n",
       "1    Not a Pedestrian                  Overtaking     Slight Injury  2022   \n",
       "2    Not a Pedestrian   Changing lane to the left    Serious Injury  2022   \n",
       "3    Not a Pedestrian  Changing lane to the right     Slight Injury  2022   \n",
       "4    Not a Pedestrian                  Overtaking     Slight Injury  2022   \n",
       "\n",
       "  month hour day_period  \n",
       "0    10   17  afternoon  \n",
       "1    10   17  afternoon  \n",
       "2    10   17  afternoon  \n",
       "3    10    1    evening  \n",
       "4    10    1    evening  \n",
       "\n",
       "[5 rows x 36 columns]"
      ]
     },
     "execution_count": 1083,
     "metadata": {},
     "output_type": "execute_result"
    }
   ],
   "source": [
    "def day_period(hours):\n",
    "    if hours in range (6,14):\n",
    "        return 'morning'\n",
    "    elif hours in range (14,22):\n",
    "        return 'afternoon'\n",
    "    else :\n",
    "        return 'evening'\n",
    "\n",
    "df['day_period']=df['hour'].apply(day_period)    \n",
    "df.head()"
   ]
  },
  {
   "cell_type": "markdown",
   "metadata": {},
   "source": [
    "## Analysis questions  (relations between every feature and accident severity ) ?\n",
    "## How to decrease every type in accident severity ?"
   ]
  },
  {
   "cell_type": "code",
   "execution_count": 1084,
   "metadata": {},
   "outputs": [
    {
     "data": {
      "text/plain": [
       "day_period  Accident_severity\n",
       "afternoon   Slight Injury        5363\n",
       "morning     Slight Injury        4039\n",
       "evening     Slight Injury        1013\n",
       "afternoon   Serious Injury        876\n",
       "morning     Serious Injury        623\n",
       "evening     Serious Injury        244\n",
       "afternoon   Fatal injury           92\n",
       "morning     Fatal injury           37\n",
       "evening     Fatal injury           29\n",
       "Name: Accident_severity, dtype: int64"
      ]
     },
     "execution_count": 1084,
     "metadata": {},
     "output_type": "execute_result"
    }
   ],
   "source": [
    "df.groupby('day_period')['Accident_severity'].value_counts().sort_values(ascending=False)"
   ]
  },
  {
   "cell_type": "code",
   "execution_count": 1085,
   "metadata": {},
   "outputs": [
    {
     "data": {
      "text/plain": [
       "Text(0.5, 1.0, 'maximum accidents per day')"
      ]
     },
     "execution_count": 1085,
     "metadata": {},
     "output_type": "execute_result"
    },
    {
     "data": {
      "image/png": "[encoded data removed]",
      "text/plain": [
       "<Figure size 1080x576 with 1 Axes>"
      ]
     },
     "metadata": {},
     "output_type": "display_data"
    }
   ],
   "source": [
    "sns.set(font_scale=1.5)\n",
    "plt.figure(figsize=[15,8])\n",
    "sns.countplot(x='day_period',hue='Accident_severity',data=df,palette='viridis')\n",
    "plt.title('maximum accidents per day')"
   ]
  },
  {
   "cell_type": "code",
   "execution_count": 1086,
   "metadata": {},
   "outputs": [
    {
     "data": {
      "text/plain": [
       "Day_of_week  Accident_severity\n",
       "Friday       Slight Injury        1712\n",
       "Wednesday    Slight Injury        1559\n",
       "Thursday     Slight Injury        1557\n",
       "Tuesday      Slight Injury        1496\n",
       "Monday       Slight Injury        1465\n",
       "Saturday     Slight Injury        1384\n",
       "Sunday       Slight Injury        1242\n",
       "Friday       Serious Injury        313\n",
       "Thursday     Serious Injury        272\n",
       "Wednesday    Serious Injury        262\n",
       "Tuesday      Serious Injury        257\n",
       "Saturday     Serious Injury        245\n",
       "Monday       Serious Injury        204\n",
       "Sunday       Serious Injury        190\n",
       "Saturday     Fatal injury           37\n",
       "Sunday       Fatal injury           35\n",
       "Thursday     Fatal injury           22\n",
       "Wednesday    Fatal injury           19\n",
       "Tuesday      Fatal injury           17\n",
       "Friday       Fatal injury           16\n",
       "Monday       Fatal injury           12\n",
       "Name: Accident_severity, dtype: int64"
      ]
     },
     "execution_count": 1086,
     "metadata": {},
     "output_type": "execute_result"
    }
   ],
   "source": [
    "df.groupby('Day_of_week')['Accident_severity'].value_counts().sort_values(ascending=False)\n"
   ]
  },
  {
   "cell_type": "code",
   "execution_count": 1087,
   "metadata": {},
   "outputs": [
    {
     "data": {
      "text/plain": [
       "Text(0.5, 1.0, 'maximum accidents type per week')"
      ]
     },
     "execution_count": 1087,
     "metadata": {},
     "output_type": "execute_result"
    },
    {
     "data": {
      "image/png": "[encoded data removed]",
      "text/plain": [
       "<Figure size 1080x576 with 1 Axes>"
      ]
     },
     "metadata": {},
     "output_type": "display_data"
    }
   ],
   "source": [
    "sns.set(font_scale=1.5)\n",
    "plt.figure(figsize=[15,8])\n",
    "sns.countplot(x='Day_of_week',hue='Accident_severity',data=df)\n",
    "plt.title('maximum accidents type per week')"
   ]
  },
  {
   "cell_type": "code",
   "execution_count": 1088,
   "metadata": {},
   "outputs": [
    {
     "data": {
      "text/plain": [
       "Age_band_of_driver  Accident_severity\n",
       "18-30               Slight Injury        3605\n",
       "31-50               Slight Injury        3492\n",
       "Unknown             Slight Injury        1370\n",
       "Over 51             Slight Injury        1304\n",
       "Under 18            Slight Injury         644\n",
       "18-30               Serious Injury        604\n",
       "31-50               Serious Injury        541\n",
       "Over 51             Serious Injury        257\n",
       "Unknown             Serious Injury        172\n",
       "Under 18            Serious Injury        169\n",
       "18-30               Fatal injury           62\n",
       "31-50               Fatal injury           54\n",
       "Over 51             Fatal injury           24\n",
       "Under 18            Fatal injury           12\n",
       "Unknown             Fatal injury            6\n",
       "Name: Accident_severity, dtype: int64"
      ]
     },
     "execution_count": 1088,
     "metadata": {},
     "output_type": "execute_result"
    }
   ],
   "source": [
    "df.groupby('Age_band_of_driver')['Accident_severity'].value_counts().sort_values(ascending=False)\n"
   ]
  },
  {
   "cell_type": "code",
   "execution_count": 1089,
   "metadata": {},
   "outputs": [
    {
     "data": {
      "text/plain": [
       "Text(0.5, 1.0, 'Age of driver')"
      ]
     },
     "execution_count": 1089,
     "metadata": {},
     "output_type": "execute_result"
    },
    {
     "data": {
      "image/png": "[encoded data removed]",
      "text/plain": [
       "<Figure size 1080x576 with 1 Axes>"
      ]
     },
     "metadata": {},
     "output_type": "display_data"
    }
   ],
   "source": [
    "sns.set(font_scale=1.5)\n",
    "plt.figure(figsize=[15,8])\n",
    "sns.countplot(x='Age_band_of_driver',hue='Accident_severity',data=df)\n",
    "plt.title('Age of driver')"
   ]
  },
  {
   "cell_type": "code",
   "execution_count": 1090,
   "metadata": {},
   "outputs": [
    {
     "data": {
      "text/plain": [
       "Service_year_of_vehicle  Accident_severity\n",
       "Unknown                  Slight Injury        2431\n",
       "2-5yrs                   Slight Injury        1511\n",
       "Above 10yr               Slight Injury        1126\n",
       "5-10yrs                  Slight Injury        1073\n",
       "1-2yr                    Slight Injury         707\n",
       "Unknown                  Serious Injury        408\n",
       "2-5yrs                   Serious Injury        253\n",
       "Below 1yr                Slight Injury         233\n",
       "5-10yrs                  Serious Injury        191\n",
       "Above 10yr               Serious Injury        186\n",
       "1-2yr                    Serious Injury        111\n",
       "Unknown                  Fatal injury           44\n",
       "Below 1yr                Serious Injury         43\n",
       "2-5yrs                   Fatal injury           28\n",
       "5-10yrs                  Fatal injury           16\n",
       "Above 10yr               Fatal injury           12\n",
       "1-2yr                    Fatal injury            9\n",
       "Below 1yr                Fatal injury            6\n",
       "Name: Accident_severity, dtype: int64"
      ]
     },
     "execution_count": 1090,
     "metadata": {},
     "output_type": "execute_result"
    }
   ],
   "source": [
    "df.groupby('Service_year_of_vehicle')['Accident_severity'].value_counts().sort_values(ascending=False)"
   ]
  },
  {
   "cell_type": "code",
   "execution_count": 1091,
   "metadata": {},
   "outputs": [
    {
     "data": {
      "text/plain": [
       "Text(0.5, 1.0, 'Service of car')"
      ]
     },
     "execution_count": 1091,
     "metadata": {},
     "output_type": "execute_result"
    },
    {
     "data": {
      "image/png": "[encoded data removed]",
      "text/plain": [
       "<Figure size 1080x576 with 1 Axes>"
      ]
     },
     "metadata": {},
     "output_type": "display_data"
    }
   ],
   "source": [
    "sns.set(font_scale=1.5)\n",
    "plt.figure(figsize=[15,8])\n",
    "sns.countplot(x='Service_year_of_vehicle',hue='Accident_severity',data=df)\n",
    "plt.title('Service of car')"
   ]
  },
  {
   "cell_type": "code",
   "execution_count": 1092,
   "metadata": {},
   "outputs": [
    {
     "data": {
      "text/plain": [
       "Type_of_vehicle       Accident_severity\n",
       "Automobile            Slight Injury        2693\n",
       "Lorry (41?100Q)       Slight Injury        1880\n",
       "Other                 Slight Injury        1054\n",
       "Pick up upto 10Q      Slight Injury         664\n",
       "Public (12 seats)     Slight Injury         607\n",
       "Stationwagen          Slight Injury         580\n",
       "Automobile            Serious Injury        472\n",
       "Public (13?45 seats)  Slight Injury         437\n",
       "Lorry (11?40Q)        Slight Injury         435\n",
       "Public (> 45 seats)   Slight Injury         347\n",
       "Long lorry            Slight Injury         312\n",
       "Lorry (41?100Q)       Serious Injury        280\n",
       "Taxi                  Slight Injury         223\n",
       "Motorcycle            Slight Injury         145\n",
       "Other                 Serious Injury        138\n",
       "Pick up upto 10Q      Serious Injury        132\n",
       "Lorry (11?40Q)        Serious Injury         99\n",
       "Stationwagen          Serious Injury         99\n",
       "Public (12 seats)     Serious Injury         95\n",
       "Public (13?45 seats)  Serious Injury         84\n",
       "Long lorry            Serious Injury         67\n",
       "Special vehicle       Slight Injury          66\n",
       "Ridden horse          Slight Injury          65\n",
       "Public (> 45 seats)   Serious Injury         55\n",
       "Automobile            Fatal injury           40\n",
       "Turbo                 Slight Injury          38\n",
       "Taxi                  Serious Injury         37\n",
       "Motorcycle            Serious Injury         29\n",
       "Lorry (41?100Q)       Fatal injury           26\n",
       "Bajaj                 Slight Injury          26\n",
       "Bicycle               Slight Injury          20\n",
       "Special vehicle       Serious Injury         17\n",
       "Other                 Fatal injury           16\n",
       "Pick up upto 10Q      Fatal injury           15\n",
       "Public (13?45 seats)  Fatal injury           11\n",
       "Ridden horse          Serious Injury         11\n",
       "Public (12 seats)     Fatal injury            9\n",
       "Stationwagen          Fatal injury            8\n",
       "Turbo                 Serious Injury          8\n",
       "Lorry (11?40Q)        Fatal injury            7\n",
       "Taxi                  Fatal injury            5\n",
       "Long lorry            Fatal injury            4\n",
       "Motorcycle            Fatal injury            3\n",
       "Bajaj                 Serious Injury          3\n",
       "Public (> 45 seats)   Fatal injury            2\n",
       "Special vehicle       Fatal injury            1\n",
       "Bicycle               Serious Injury          1\n",
       "Name: Accident_severity, dtype: int64"
      ]
     },
     "execution_count": 1092,
     "metadata": {},
     "output_type": "execute_result"
    }
   ],
   "source": [
    "df.groupby('Type_of_vehicle')['Accident_severity'].value_counts().sort_values(ascending=False)"
   ]
  },
  {
   "cell_type": "code",
   "execution_count": 1093,
   "metadata": {},
   "outputs": [
    {
     "data": {
      "text/plain": [
       "[Text(0, 0, 'Automobile'),\n",
       " Text(1, 0, 'Public (> 45 seats)'),\n",
       " Text(2, 0, 'Lorry (41?100Q)'),\n",
       " Text(3, 0, 'Public (13?45 seats)'),\n",
       " Text(4, 0, 'Lorry (11?40Q)'),\n",
       " Text(5, 0, 'Long lorry'),\n",
       " Text(6, 0, 'Public (12 seats)'),\n",
       " Text(7, 0, 'Taxi'),\n",
       " Text(8, 0, 'Pick up upto 10Q'),\n",
       " Text(9, 0, 'Stationwagen'),\n",
       " Text(10, 0, 'Ridden horse'),\n",
       " Text(11, 0, 'Other'),\n",
       " Text(12, 0, 'Bajaj'),\n",
       " Text(13, 0, 'Turbo'),\n",
       " Text(14, 0, 'Motorcycle'),\n",
       " Text(15, 0, 'Special vehicle'),\n",
       " Text(16, 0, 'Bicycle')]"
      ]
     },
     "execution_count": 1093,
     "metadata": {},
     "output_type": "execute_result"
    },
    {
     "data": {
      "image/png": "[encoded data removed]",
      "text/plain": [
       "<Figure size 1080x576 with 1 Axes>"
      ]
     },
     "metadata": {},
     "output_type": "display_data"
    }
   ],
   "source": [
    "plt.figure(figsize=[15,8])\n",
    "b=sns.countplot(x='Type_of_vehicle',hue='Accident_severity',data=df)\n",
    "plt.title('Type of vechile')\n",
    "b.set_xticklabels(b.get_xmajorticklabels(), size = 7)"
   ]
  },
  {
   "cell_type": "code",
   "execution_count": 1094,
   "metadata": {},
   "outputs": [
    {
     "data": {
      "text/plain": [
       "Light_conditions         Accident_severity\n",
       "Daylight                 Slight Injury        7489\n",
       "Darkness - lights lit    Slight Injury        2755\n",
       "Daylight                 Serious Injury       1222\n",
       "Darkness - lights lit    Serious Injury        465\n",
       "Darkness - no lighting   Slight Injury         138\n",
       "Daylight                 Fatal injury           87\n",
       "Darkness - lights lit    Fatal injury           66\n",
       "Darkness - no lighting   Serious Injury         49\n",
       "Darkness - lights unlit  Slight Injury          33\n",
       "                         Serious Injury          7\n",
       "Darkness - no lighting   Fatal injury            5\n",
       "Name: Accident_severity, dtype: int64"
      ]
     },
     "execution_count": 1094,
     "metadata": {},
     "output_type": "execute_result"
    }
   ],
   "source": [
    "df.groupby('Light_conditions')['Accident_severity'].value_counts().sort_values(ascending=False)"
   ]
  },
  {
   "cell_type": "code",
   "execution_count": 1095,
   "metadata": {},
   "outputs": [
    {
     "data": {
      "text/plain": [
       "Text(0.5, 1.0, 'light conditions')"
      ]
     },
     "execution_count": 1095,
     "metadata": {},
     "output_type": "execute_result"
    },
    {
     "data": {
      "image/png": "[encoded data removed]",
      "text/plain": [
       "<Figure size 1080x576 with 1 Axes>"
      ]
     },
     "metadata": {},
     "output_type": "display_data"
    }
   ],
   "source": [
    "sns.set(font_scale=1.5)\n",
    "plt.figure(figsize=[15,8])\n",
    "sns.countplot(x='Light_conditions',hue='Accident_severity',data=df)\n",
    "plt.title('light conditions')"
   ]
  },
  {
   "cell_type": "code",
   "execution_count": 1096,
   "metadata": {},
   "outputs": [],
   "source": [
    "### lightining is not effecting"
   ]
  },
  {
   "cell_type": "code",
   "execution_count": 1097,
   "metadata": {},
   "outputs": [
    {
     "data": {
      "text/plain": [
       "Weather_conditions  Accident_severity\n",
       "Normal              Slight Injury        8454\n",
       "                    Serious Injury       1474\n",
       "Raining             Slight Injury        1150\n",
       "Other               Slight Injury         268\n",
       "Unknown             Slight Injury         241\n",
       "Raining             Serious Injury        158\n",
       "Normal              Fatal injury          135\n",
       "Cloudy              Slight Injury         117\n",
       "Windy               Slight Injury          82\n",
       "Snow                Slight Injury          56\n",
       "Unknown             Serious Injury         51\n",
       "Raining and Windy   Slight Injury          38\n",
       "Other               Serious Injury         28\n",
       "Raining             Fatal injury           23\n",
       "Windy               Serious Injury         16\n",
       "Fog or mist         Slight Injury           9\n",
       "Cloudy              Serious Injury          8\n",
       "Snow                Serious Injury          5\n",
       "Raining and Windy   Serious Injury          2\n",
       "Fog or mist         Serious Injury          1\n",
       "Name: Accident_severity, dtype: int64"
      ]
     },
     "execution_count": 1097,
     "metadata": {},
     "output_type": "execute_result"
    }
   ],
   "source": [
    "df.groupby('Weather_conditions')['Accident_severity'].value_counts().sort_values(ascending=False)"
   ]
  },
  {
   "cell_type": "code",
   "execution_count": 1098,
   "metadata": {},
   "outputs": [
    {
     "data": {
      "text/plain": [
       "Text(0.5, 1.0, 'light conditions')"
      ]
     },
     "execution_count": 1098,
     "metadata": {},
     "output_type": "execute_result"
    },
    {
     "data": {
      "image/png": "[encoded data removed]",
      "text/plain": [
       "<Figure size 1080x576 with 1 Axes>"
      ]
     },
     "metadata": {},
     "output_type": "display_data"
    }
   ],
   "source": [
    "sns.set(font_scale=1)\n",
    "plt.figure(figsize=[15,8])\n",
    "sns.countplot(x='Weather_conditions',hue='Accident_severity',data=df)\n",
    "plt.title('light conditions')"
   ]
  },
  {
   "cell_type": "code",
   "execution_count": 1099,
   "metadata": {},
   "outputs": [],
   "source": [
    "### weather is not effecting"
   ]
  },
  {
   "cell_type": "code",
   "execution_count": 1100,
   "metadata": {},
   "outputs": [
    {
     "data": {
      "text/plain": [
       "Road_surface_type                 Accident_severity\n",
       "Asphalt roads                     Slight Injury        9555\n",
       "                                  Serious Injury       1593\n",
       "Earth roads                       Slight Injury         302\n",
       "Gravel roads                      Slight Injury         197\n",
       "Asphalt roads                     Fatal injury          148\n",
       "Other                             Slight Injury         140\n",
       "Asphalt roads with some distress  Slight Injury          73\n",
       "Earth roads                       Serious Injury         49\n",
       "Gravel roads                      Serious Injury         45\n",
       "Other                             Serious Injury         26\n",
       "Asphalt roads with some distress  Serious Injury          7\n",
       "Earth roads                       Fatal injury            7\n",
       "Asphalt roads with some distress  Fatal injury            1\n",
       "Other                             Fatal injury            1\n",
       "Name: Accident_severity, dtype: int64"
      ]
     },
     "execution_count": 1100,
     "metadata": {},
     "output_type": "execute_result"
    }
   ],
   "source": [
    "df.groupby('Road_surface_type')['Accident_severity'].value_counts().sort_values(ascending=False)"
   ]
  },
  {
   "cell_type": "code",
   "execution_count": 1101,
   "metadata": {},
   "outputs": [
    {
     "data": {
      "text/plain": [
       "Text(0.5, 1.0, 'Road_surface_type')"
      ]
     },
     "execution_count": 1101,
     "metadata": {},
     "output_type": "execute_result"
    },
    {
     "data": {
      "image/png": "[encoded data removed]",
      "text/plain": [
       "<Figure size 1080x576 with 1 Axes>"
      ]
     },
     "metadata": {},
     "output_type": "display_data"
    }
   ],
   "source": [
    "sns.set(font_scale=1)\n",
    "plt.figure(figsize=[15,8])\n",
    "sns.countplot(x='Road_surface_type',hue='Accident_severity',data=df)\n",
    "plt.title('Road_surface_type')"
   ]
  },
  {
   "cell_type": "code",
   "execution_count": 1102,
   "metadata": {},
   "outputs": [
    {
     "data": {
      "text/plain": [
       "Cause_of_accident                     Accident_severity\n",
       "No distancing                         Slight Injury        1940\n",
       "Changing lane to the right            Slight Injury        1525\n",
       "Changing lane to the left             Slight Injury        1251\n",
       "Driving carelessly                    Slight Injury        1171\n",
       "No priority to vehicle                Slight Injury        1045\n",
       "Moving Backward                       Slight Injury         949\n",
       "No priority to pedestrian             Slight Injury         621\n",
       "Other                                 Slight Injury         385\n",
       "Overtaking                            Slight Injury         351\n",
       "No distancing                         Serious Injury        303\n",
       "Driving under the influence of drugs  Slight Injury         289\n",
       "Changing lane to the right            Serious Injury        260\n",
       "Driving to the left                   Slight Injury         227\n",
       "Driving carelessly                    Serious Injury        209\n",
       "Changing lane to the left             Serious Injury        206\n",
       "Getting off the vehicle improperly    Slight Injury         165\n",
       "Moving Backward                       Serious Injury        162\n",
       "No priority to vehicle                Serious Injury        149\n",
       "Driving at high speed                 Slight Injury         141\n",
       "Overturning                           Slight Injury         124\n",
       "No priority to pedestrian             Serious Injury         95\n",
       "Overtaking                            Serious Injury         75\n",
       "Turnover                              Slight Injury          70\n",
       "Other                                 Serious Injury         64\n",
       "Driving to the left                   Serious Injury         53\n",
       "Overloading                           Slight Injury          47\n",
       "Driving under the influence of drugs  Serious Injury         46\n",
       "Overspeed                             Slight Injury          45\n",
       "Driving at high speed                 Serious Injury         31\n",
       "Getting off the vehicle improperly    Serious Injury         29\n",
       "Moving Backward                       Fatal injury           26\n",
       "Drunk driving                         Slight Injury          24\n",
       "Overturning                           Serious Injury         23\n",
       "Unknown                               Slight Injury          23\n",
       "Changing lane to the right            Fatal injury           23\n",
       "Driving carelessly                    Fatal injury           22\n",
       "Improper parking                      Slight Injury          22\n",
       "No distancing                         Fatal injury           20\n",
       "Changing lane to the left             Fatal injury           16\n",
       "Overspeed                             Serious Injury         15\n",
       "No priority to vehicle                Fatal injury           13\n",
       "Overloading                           Serious Injury         10\n",
       "Other                                 Fatal injury            7\n",
       "Turnover                              Serious Injury          6\n",
       "No priority to pedestrian             Fatal injury            5\n",
       "Driving under the influence of drugs  Fatal injury            5\n",
       "Overtaking                            Fatal injury            4\n",
       "Driving to the left                   Fatal injury            4\n",
       "Drunk driving                         Serious Injury          3\n",
       "Getting off the vehicle improperly    Fatal injury            3\n",
       "Improper parking                      Serious Injury          2\n",
       "Overturning                           Fatal injury            2\n",
       "Overloading                           Fatal injury            2\n",
       "Turnover                              Fatal injury            2\n",
       "Driving at high speed                 Fatal injury            2\n",
       "Unknown                               Serious Injury          2\n",
       "Overspeed                             Fatal injury            1\n",
       "Improper parking                      Fatal injury            1\n",
       "Name: Accident_severity, dtype: int64"
      ]
     },
     "execution_count": 1102,
     "metadata": {},
     "output_type": "execute_result"
    }
   ],
   "source": [
    "df.groupby('Cause_of_accident')['Accident_severity'].value_counts().sort_values(ascending=False)"
   ]
  },
  {
   "cell_type": "code",
   "execution_count": 1103,
   "metadata": {},
   "outputs": [
    {
     "data": {
      "text/plain": [
       "[Text(0, 0, 'Moving Backward'),\n",
       " Text(1, 0, 'Overtaking'),\n",
       " Text(2, 0, 'Changing lane to the left'),\n",
       " Text(3, 0, 'Changing lane to the right'),\n",
       " Text(4, 0, 'Overloading'),\n",
       " Text(5, 0, 'Other'),\n",
       " Text(6, 0, 'No priority to vehicle'),\n",
       " Text(7, 0, 'No priority to pedestrian'),\n",
       " Text(8, 0, 'No distancing'),\n",
       " Text(9, 0, 'Getting off the vehicle improperly'),\n",
       " Text(10, 0, 'Improper parking'),\n",
       " Text(11, 0, 'Overspeed'),\n",
       " Text(12, 0, 'Driving carelessly'),\n",
       " Text(13, 0, 'Driving at high speed'),\n",
       " Text(14, 0, 'Driving to the left'),\n",
       " Text(15, 0, 'Unknown'),\n",
       " Text(16, 0, 'Overturning'),\n",
       " Text(17, 0, 'Turnover'),\n",
       " Text(18, 0, 'Driving under the influence of drugs'),\n",
       " Text(19, 0, 'Drunk driving')]"
      ]
     },
     "execution_count": 1103,
     "metadata": {},
     "output_type": "execute_result"
    },
    {
     "data": {
      "image/png": "[encoded data removed]",
      "text/plain": [
       "<Figure size 1080x576 with 1 Axes>"
      ]
     },
     "metadata": {},
     "output_type": "display_data"
    }
   ],
   "source": [
    "plt.figure(figsize=[15,8])\n",
    "b=sns.countplot(x='Cause_of_accident',hue='Accident_severity',data=df)\n",
    "plt.title('Accident_severity')\n",
    "b.set_xticklabels(b.get_xmajorticklabels(), size = 5)"
   ]
  },
  {
   "cell_type": "code",
   "execution_count": 1104,
   "metadata": {},
   "outputs": [
    {
     "data": {
      "text/plain": [
       "Road_surface_conditions  Accident_severity\n",
       "Dry                      Slight Injury        7887\n",
       "Wet or damp              Slight Injury        2460\n",
       "Dry                      Serious Injury       1332\n",
       "Wet or damp              Serious Injury        407\n",
       "Dry                      Fatal injury          121\n",
       "Snow                     Slight Injury          66\n",
       "Wet or damp              Fatal injury           37\n",
       "Snow                     Serious Injury          4\n",
       "Flood over 3cm. deep     Slight Injury           2\n",
       "Name: Accident_severity, dtype: int64"
      ]
     },
     "execution_count": 1104,
     "metadata": {},
     "output_type": "execute_result"
    }
   ],
   "source": [
    "df.groupby('Road_surface_conditions')['Accident_severity'].value_counts().sort_values(ascending=False)"
   ]
  },
  {
   "cell_type": "code",
   "execution_count": 1105,
   "metadata": {},
   "outputs": [
    {
     "data": {
      "text/plain": [
       "[Text(0, 0, 'Dry'),\n",
       " Text(1, 0, 'Wet or damp'),\n",
       " Text(2, 0, 'Snow'),\n",
       " Text(3, 0, 'Flood over 3cm. deep')]"
      ]
     },
     "execution_count": 1105,
     "metadata": {},
     "output_type": "execute_result"
    },
    {
     "data": {
      "image/png": "[encoded data removed]",
      "text/plain": [
       "<Figure size 1080x576 with 1 Axes>"
      ]
     },
     "metadata": {},
     "output_type": "display_data"
    }
   ],
   "source": [
    "plt.figure(figsize=[15,8])\n",
    "b=sns.countplot(x='Road_surface_conditions',hue='Accident_severity',data=df)\n",
    "plt.title('Road_surface_conditions')\n",
    "b.set_xticklabels(b.get_xmajorticklabels(), size = 15)"
   ]
  },
  {
   "cell_type": "code",
   "execution_count": 1106,
   "metadata": {},
   "outputs": [
    {
     "data": {
      "text/plain": [
       "2    8340\n",
       "1    1996\n",
       "3    1568\n",
       "4     363\n",
       "6      42\n",
       "7       7\n",
       "Name: Number_of_vehicles_involved, dtype: int64"
      ]
     },
     "execution_count": 1106,
     "metadata": {},
     "output_type": "execute_result"
    }
   ],
   "source": [
    "df['Number_of_vehicles_involved'].value_counts()"
   ]
  },
  {
   "cell_type": "code",
   "execution_count": 1107,
   "metadata": {},
   "outputs": [
    {
     "data": {
      "text/plain": [
       "Normal               10063\n",
       "Raining               1331\n",
       "Other                  296\n",
       "Unknown                292\n",
       "Cloudy                 125\n",
       "Windy                   98\n",
       "Snow                    61\n",
       "Raining and Windy       40\n",
       "Fog or mist             10\n",
       "Name: Weather_conditions, dtype: int64"
      ]
     },
     "execution_count": 1107,
     "metadata": {},
     "output_type": "execute_result"
    }
   ],
   "source": [
    "df['Weather_conditions'].value_counts()"
   ]
  },
  {
   "cell_type": "code",
   "execution_count": 1108,
   "metadata": {},
   "outputs": [
    {
     "data": {
      "text/plain": [
       "Tangent road with flat terrain                   10459\n",
       "Tangent road with mild grade and flat terrain      501\n",
       "Steep grade downward with mountainous terrain      429\n",
       "Tangent road with mountainous terrain and          396\n",
       "Gentle horizontal curve                            163\n",
       "Escarpments                                        113\n",
       "Sharp reverse curve                                 57\n",
       "Tangent road with rolling terrain                   37\n",
       "Steep grade upward with mountainous terrain         19\n",
       "Name: Road_allignment, dtype: int64"
      ]
     },
     "execution_count": 1108,
     "metadata": {},
     "output_type": "execute_result"
    }
   ],
   "source": [
    "df['Road_allignment'].value_counts()"
   ]
  },
  {
   "cell_type": "code",
   "execution_count": 1109,
   "metadata": {},
   "outputs": [
    {
     "data": {
      "text/html": [
       "<div>\n",
       "<style scoped>\n",
       "    .dataframe tbody tr th:only-of-type {\n",
       "        vertical-align: middle;\n",
       "    }\n",
       "\n",
       "    .dataframe tbody tr th {\n",
       "        vertical-align: top;\n",
       "    }\n",
       "\n",
       "    .dataframe thead th {\n",
       "        text-align: right;\n",
       "    }\n",
       "</style>\n",
       "<table border=\"1\" class=\"dataframe\">\n",
       "  <thead>\n",
       "    <tr style=\"text-align: right;\">\n",
       "      <th></th>\n",
       "      <th>Time</th>\n",
       "      <th>Day_of_week</th>\n",
       "      <th>Age_band_of_driver</th>\n",
       "      <th>Sex_of_driver</th>\n",
       "      <th>Educational_level</th>\n",
       "      <th>Vehicle_driver_relation</th>\n",
       "      <th>Driving_experience</th>\n",
       "      <th>Type_of_vehicle</th>\n",
       "      <th>Owner_of_vehicle</th>\n",
       "      <th>Service_year_of_vehicle</th>\n",
       "      <th>...</th>\n",
       "      <th>Casualty_severity</th>\n",
       "      <th>Work_of_casuality</th>\n",
       "      <th>Fitness_of_casuality</th>\n",
       "      <th>Pedestrian_movement</th>\n",
       "      <th>Cause_of_accident</th>\n",
       "      <th>Accident_severity</th>\n",
       "      <th>year</th>\n",
       "      <th>month</th>\n",
       "      <th>hour</th>\n",
       "      <th>day_period</th>\n",
       "    </tr>\n",
       "  </thead>\n",
       "  <tbody>\n",
       "    <tr>\n",
       "      <th>0</th>\n",
       "      <td>2022-10-07 17:02:00</td>\n",
       "      <td>Monday</td>\n",
       "      <td>18-30</td>\n",
       "      <td>Male</td>\n",
       "      <td>Above high school</td>\n",
       "      <td>Employee</td>\n",
       "      <td>1-2yr</td>\n",
       "      <td>Automobile</td>\n",
       "      <td>Owner</td>\n",
       "      <td>Above 10yr</td>\n",
       "      <td>...</td>\n",
       "      <td>na</td>\n",
       "      <td>NaN</td>\n",
       "      <td>NaN</td>\n",
       "      <td>Not a Pedestrian</td>\n",
       "      <td>Moving Backward</td>\n",
       "      <td>Slight Injury</td>\n",
       "      <td>2022</td>\n",
       "      <td>10</td>\n",
       "      <td>17</td>\n",
       "      <td>afternoon</td>\n",
       "    </tr>\n",
       "    <tr>\n",
       "      <th>1</th>\n",
       "      <td>2022-10-07 17:02:00</td>\n",
       "      <td>Monday</td>\n",
       "      <td>31-50</td>\n",
       "      <td>Male</td>\n",
       "      <td>Junior high school</td>\n",
       "      <td>Employee</td>\n",
       "      <td>Above 10yr</td>\n",
       "      <td>Public (&gt; 45 seats)</td>\n",
       "      <td>Owner</td>\n",
       "      <td>5-10yrs</td>\n",
       "      <td>...</td>\n",
       "      <td>na</td>\n",
       "      <td>NaN</td>\n",
       "      <td>NaN</td>\n",
       "      <td>Not a Pedestrian</td>\n",
       "      <td>Overtaking</td>\n",
       "      <td>Slight Injury</td>\n",
       "      <td>2022</td>\n",
       "      <td>10</td>\n",
       "      <td>17</td>\n",
       "      <td>afternoon</td>\n",
       "    </tr>\n",
       "    <tr>\n",
       "      <th>2</th>\n",
       "      <td>2022-10-07 17:02:00</td>\n",
       "      <td>Monday</td>\n",
       "      <td>18-30</td>\n",
       "      <td>Male</td>\n",
       "      <td>Junior high school</td>\n",
       "      <td>Employee</td>\n",
       "      <td>1-2yr</td>\n",
       "      <td>Lorry (41?100Q)</td>\n",
       "      <td>Owner</td>\n",
       "      <td>NaN</td>\n",
       "      <td>...</td>\n",
       "      <td>3</td>\n",
       "      <td>Driver</td>\n",
       "      <td>NaN</td>\n",
       "      <td>Not a Pedestrian</td>\n",
       "      <td>Changing lane to the left</td>\n",
       "      <td>Serious Injury</td>\n",
       "      <td>2022</td>\n",
       "      <td>10</td>\n",
       "      <td>17</td>\n",
       "      <td>afternoon</td>\n",
       "    </tr>\n",
       "    <tr>\n",
       "      <th>3</th>\n",
       "      <td>2022-10-07 01:06:00</td>\n",
       "      <td>Sunday</td>\n",
       "      <td>18-30</td>\n",
       "      <td>Male</td>\n",
       "      <td>Junior high school</td>\n",
       "      <td>Employee</td>\n",
       "      <td>5-10yr</td>\n",
       "      <td>Public (&gt; 45 seats)</td>\n",
       "      <td>Governmental</td>\n",
       "      <td>NaN</td>\n",
       "      <td>...</td>\n",
       "      <td>3</td>\n",
       "      <td>Driver</td>\n",
       "      <td>Normal</td>\n",
       "      <td>Not a Pedestrian</td>\n",
       "      <td>Changing lane to the right</td>\n",
       "      <td>Slight Injury</td>\n",
       "      <td>2022</td>\n",
       "      <td>10</td>\n",
       "      <td>1</td>\n",
       "      <td>evening</td>\n",
       "    </tr>\n",
       "    <tr>\n",
       "      <th>4</th>\n",
       "      <td>2022-10-07 01:06:00</td>\n",
       "      <td>Sunday</td>\n",
       "      <td>18-30</td>\n",
       "      <td>Male</td>\n",
       "      <td>Junior high school</td>\n",
       "      <td>Employee</td>\n",
       "      <td>2-5yr</td>\n",
       "      <td>NaN</td>\n",
       "      <td>Owner</td>\n",
       "      <td>5-10yrs</td>\n",
       "      <td>...</td>\n",
       "      <td>na</td>\n",
       "      <td>NaN</td>\n",
       "      <td>NaN</td>\n",
       "      <td>Not a Pedestrian</td>\n",
       "      <td>Overtaking</td>\n",
       "      <td>Slight Injury</td>\n",
       "      <td>2022</td>\n",
       "      <td>10</td>\n",
       "      <td>1</td>\n",
       "      <td>evening</td>\n",
       "    </tr>\n",
       "  </tbody>\n",
       "</table>\n",
       "<p>5 rows × 36 columns</p>\n",
       "</div>"
      ],
      "text/plain": [
       "                 Time Day_of_week Age_band_of_driver Sex_of_driver  \\\n",
       "0 2022-10-07 17:02:00      Monday              18-30          Male   \n",
       "1 2022-10-07 17:02:00      Monday              31-50          Male   \n",
       "2 2022-10-07 17:02:00      Monday              18-30          Male   \n",
       "3 2022-10-07 01:06:00      Sunday              18-30          Male   \n",
       "4 2022-10-07 01:06:00      Sunday              18-30          Male   \n",
       "\n",
       "    Educational_level Vehicle_driver_relation Driving_experience  \\\n",
       "0   Above high school                Employee              1-2yr   \n",
       "1  Junior high school                Employee         Above 10yr   \n",
       "2  Junior high school                Employee              1-2yr   \n",
       "3  Junior high school                Employee             5-10yr   \n",
       "4  Junior high school                Employee              2-5yr   \n",
       "\n",
       "       Type_of_vehicle Owner_of_vehicle Service_year_of_vehicle  ...  \\\n",
       "0           Automobile            Owner              Above 10yr  ...   \n",
       "1  Public (> 45 seats)            Owner                 5-10yrs  ...   \n",
       "2      Lorry (41?100Q)            Owner                     NaN  ...   \n",
       "3  Public (> 45 seats)     Governmental                     NaN  ...   \n",
       "4                  NaN            Owner                 5-10yrs  ...   \n",
       "\n",
       "  Casualty_severity Work_of_casuality Fitness_of_casuality  \\\n",
       "0                na               NaN                  NaN   \n",
       "1                na               NaN                  NaN   \n",
       "2                 3            Driver                  NaN   \n",
       "3                 3            Driver               Normal   \n",
       "4                na               NaN                  NaN   \n",
       "\n",
       "  Pedestrian_movement           Cause_of_accident Accident_severity  year  \\\n",
       "0    Not a Pedestrian             Moving Backward     Slight Injury  2022   \n",
       "1    Not a Pedestrian                  Overtaking     Slight Injury  2022   \n",
       "2    Not a Pedestrian   Changing lane to the left    Serious Injury  2022   \n",
       "3    Not a Pedestrian  Changing lane to the right     Slight Injury  2022   \n",
       "4    Not a Pedestrian                  Overtaking     Slight Injury  2022   \n",
       "\n",
       "  month hour day_period  \n",
       "0    10   17  afternoon  \n",
       "1    10   17  afternoon  \n",
       "2    10   17  afternoon  \n",
       "3    10    1    evening  \n",
       "4    10    1    evening  \n",
       "\n",
       "[5 rows x 36 columns]"
      ]
     },
     "execution_count": 1109,
     "metadata": {},
     "output_type": "execute_result"
    }
   ],
   "source": [
    "df.head()"
   ]
  },
  {
   "cell_type": "code",
   "execution_count": 1110,
   "metadata": {},
   "outputs": [
    {
     "data": {
      "text/plain": [
       "array(['Going straight', 'U-Turn', 'Moving Backward', 'Turnover',\n",
       "       'Waiting to go', 'Getting off', 'Reversing', 'Unknown', 'Parked',\n",
       "       'Stopping', 'Overtaking', 'Other', 'Entering a junction', nan],\n",
       "      dtype=object)"
      ]
     },
     "execution_count": 1110,
     "metadata": {},
     "output_type": "execute_result"
    }
   ],
   "source": [
    "df['Vehicle_movement'].unique()"
   ]
  },
  {
   "cell_type": "code",
   "execution_count": 1111,
   "metadata": {},
   "outputs": [
    {
     "data": {
      "text/plain": [
       "Vehicle_movement     Accident_severity\n",
       "Going straight       Slight Injury        6922\n",
       "                     Serious Injury       1137\n",
       "Moving Backward      Slight Injury         831\n",
       "Other                Slight Injury         797\n",
       "Reversing            Slight Injury         469\n",
       "Turnover             Slight Injury         405\n",
       "Getting off          Slight Injury         290\n",
       "Entering a junction  Slight Injury         163\n",
       "Moving Backward      Serious Injury        142\n",
       "Other                Serious Injury        130\n",
       "Going straight       Fatal injury           99\n",
       "Reversing            Serious Injury         87\n",
       "Overtaking           Slight Injury          83\n",
       "Turnover             Serious Injury         77\n",
       "Unknown              Slight Injury          74\n",
       "Stopping             Slight Injury          50\n",
       "Getting off          Serious Injury         44\n",
       "U-Turn               Slight Injury          41\n",
       "Waiting to go        Slight Injury          34\n",
       "Entering a junction  Serious Injury         26\n",
       "Unknown              Serious Injury         13\n",
       "Moving Backward      Fatal injury           12\n",
       "Other                Fatal injury           10\n",
       "Stopping             Serious Injury         10\n",
       "U-Turn               Serious Injury          9\n",
       "Parked               Slight Injury           8\n",
       "Overtaking           Serious Injury          8\n",
       "Reversing            Fatal injury            7\n",
       "Turnover             Fatal injury            7\n",
       "Overtaking           Fatal injury            5\n",
       "Getting off          Fatal injury            5\n",
       "Entering a junction  Fatal injury            4\n",
       "Waiting to go        Serious Injury          4\n",
       "Parked               Serious Injury          2\n",
       "Stopping             Fatal injury            1\n",
       "Unknown              Fatal injury            1\n",
       "Waiting to go        Fatal injury            1\n",
       "Name: Accident_severity, dtype: int64"
      ]
     },
     "execution_count": 1111,
     "metadata": {},
     "output_type": "execute_result"
    }
   ],
   "source": [
    "df.groupby('Vehicle_movement')['Accident_severity'].value_counts().sort_values(ascending=False)"
   ]
  },
  {
   "cell_type": "code",
   "execution_count": 1112,
   "metadata": {},
   "outputs": [
    {
     "data": {
      "text/plain": [
       "array(['Slight Injury', 'Serious Injury', 'Fatal injury'], dtype=object)"
      ]
     },
     "execution_count": 1112,
     "metadata": {},
     "output_type": "execute_result"
    }
   ],
   "source": [
    "df['Accident_severity'].unique()"
   ]
  },
  {
   "cell_type": "code",
   "execution_count": 1113,
   "metadata": {},
   "outputs": [
    {
     "data": {
      "text/plain": [
       "array(['na', '3', '2', '1'], dtype=object)"
      ]
     },
     "execution_count": 1113,
     "metadata": {},
     "output_type": "execute_result"
    }
   ],
   "source": [
    "df['Casualty_severity'].unique()"
   ]
  },
  {
   "cell_type": "code",
   "execution_count": 1114,
   "metadata": {},
   "outputs": [
    {
     "data": {
      "text/plain": [
       "Normal          9608\n",
       "NormalNormal      19\n",
       "Deaf              18\n",
       "Blind             18\n",
       "Other             18\n",
       "Name: Fitness_of_casuality, dtype: int64"
      ]
     },
     "execution_count": 1114,
     "metadata": {},
     "output_type": "execute_result"
    }
   ],
   "source": [
    "df['Fitness_of_casuality'].value_counts()"
   ]
  },
  {
   "cell_type": "code",
   "execution_count": 1115,
   "metadata": {},
   "outputs": [
    {
     "data": {
      "text/plain": [
       "array(['Not a Pedestrian', \"Crossing from driver's nearside\",\n",
       "       'Crossing from nearside - masked by parked or statioNot a Pedestrianry vehicle',\n",
       "       'Unknown or other',\n",
       "       'Crossing from offside - masked by  parked or statioNot a Pedestrianry vehicle',\n",
       "       'In carriageway, statioNot a Pedestrianry - not crossing  (standing or playing)',\n",
       "       'Walking along in carriageway, back to traffic',\n",
       "       'Walking along in carriageway, facing traffic',\n",
       "       'In carriageway, statioNot a Pedestrianry - not crossing  (standing or playing) - masked by parked or statioNot a Pedestrianry vehicle'],\n",
       "      dtype=object)"
      ]
     },
     "execution_count": 1115,
     "metadata": {},
     "output_type": "execute_result"
    }
   ],
   "source": [
    "df['Pedestrian_movement'].unique()"
   ]
  },
  {
   "cell_type": "code",
   "execution_count": 1116,
   "metadata": {},
   "outputs": [
    {
     "data": {
      "text/plain": [
       "Pedestrian_movement                                                                                                                    Accident_severity\n",
       "Not a Pedestrian                                                                                                                       Slight Injury        9642\n",
       "                                                                                                                                       Serious Injury       1606\n",
       "Crossing from nearside - masked by parked or statioNot a Pedestrianry vehicle                                                          Slight Injury         279\n",
       "Unknown or other                                                                                                                       Slight Injury         246\n",
       "Not a Pedestrian                                                                                                                       Fatal injury          142\n",
       "Crossing from driver's nearside                                                                                                        Slight Injury         111\n",
       "Crossing from offside - masked by  parked or statioNot a Pedestrianry vehicle                                                          Slight Injury          61\n",
       "Crossing from nearside - masked by parked or statioNot a Pedestrianry vehicle                                                          Serious Injury         51\n",
       "In carriageway, statioNot a Pedestrianry - not crossing  (standing or playing)                                                         Slight Injury          41\n",
       "Unknown or other                                                                                                                       Serious Injury         40\n",
       "Crossing from driver's nearside                                                                                                        Serious Injury         28\n",
       "Walking along in carriageway, back to traffic                                                                                          Slight Injury          15\n",
       "In carriageway, statioNot a Pedestrianry - not crossing  (standing or playing) - masked by parked or statioNot a Pedestrianry vehicle  Slight Injury          13\n",
       "Crossing from offside - masked by  parked or statioNot a Pedestrianry vehicle                                                          Serious Injury         10\n",
       "Unknown or other                                                                                                                       Fatal injury            7\n",
       "Walking along in carriageway, facing traffic                                                                                           Slight Injury           7\n",
       "Crossing from nearside - masked by parked or statioNot a Pedestrianry vehicle                                                          Fatal injury            7\n",
       "In carriageway, statioNot a Pedestrianry - not crossing  (standing or playing)                                                         Serious Injury          5\n",
       "Walking along in carriageway, back to traffic                                                                                          Serious Injury          3\n",
       "Crossing from offside - masked by  parked or statioNot a Pedestrianry vehicle                                                          Fatal injury            1\n",
       "Crossing from driver's nearside                                                                                                        Fatal injury            1\n",
       "Name: Accident_severity, dtype: int64"
      ]
     },
     "execution_count": 1116,
     "metadata": {},
     "output_type": "execute_result"
    }
   ],
   "source": [
    "df.groupby('Pedestrian_movement')['Accident_severity'].value_counts().sort_values(ascending=False)"
   ]
  },
  {
   "cell_type": "code",
   "execution_count": 1117,
   "metadata": {},
   "outputs": [
    {
     "name": "stdout",
     "output_type": "stream",
     "text": [
      "<class 'pandas.core.frame.DataFrame'>\n",
      "RangeIndex: 12316 entries, 0 to 12315\n",
      "Data columns (total 36 columns):\n",
      " #   Column                       Non-Null Count  Dtype         \n",
      "---  ------                       --------------  -----         \n",
      " 0   Time                         12316 non-null  datetime64[ns]\n",
      " 1   Day_of_week                  12316 non-null  object        \n",
      " 2   Age_band_of_driver           12316 non-null  object        \n",
      " 3   Sex_of_driver                12316 non-null  object        \n",
      " 4   Educational_level            11575 non-null  object        \n",
      " 5   Vehicle_driver_relation      11737 non-null  object        \n",
      " 6   Driving_experience           11487 non-null  object        \n",
      " 7   Type_of_vehicle              11366 non-null  object        \n",
      " 8   Owner_of_vehicle             11834 non-null  object        \n",
      " 9   Service_year_of_vehicle      8388 non-null   object        \n",
      " 10  Defect_of_vehicle            7889 non-null   object        \n",
      " 11  Area_accident_occured        12077 non-null  object        \n",
      " 12  Lanes_or_Medians             11931 non-null  object        \n",
      " 13  Road_allignment              12174 non-null  object        \n",
      " 14  Types_of_Junction            11429 non-null  object        \n",
      " 15  Road_surface_type            12144 non-null  object        \n",
      " 16  Road_surface_conditions      12316 non-null  object        \n",
      " 17  Light_conditions             12316 non-null  object        \n",
      " 18  Weather_conditions           12316 non-null  object        \n",
      " 19  Type_of_collision            12161 non-null  object        \n",
      " 20  Number_of_vehicles_involved  12316 non-null  int64         \n",
      " 21  Number_of_casualties         12316 non-null  int64         \n",
      " 22  Vehicle_movement             12008 non-null  object        \n",
      " 23  Casualty_class               12316 non-null  object        \n",
      " 24  Sex_of_casualty              12316 non-null  object        \n",
      " 25  Age_band_of_casualty         12316 non-null  object        \n",
      " 26  Casualty_severity            12316 non-null  object        \n",
      " 27  Work_of_casuality            9118 non-null   object        \n",
      " 28  Fitness_of_casuality         9681 non-null   object        \n",
      " 29  Pedestrian_movement          12316 non-null  object        \n",
      " 30  Cause_of_accident            12316 non-null  object        \n",
      " 31  Accident_severity            12316 non-null  object        \n",
      " 32  year                         12316 non-null  int64         \n",
      " 33  month                        12316 non-null  int64         \n",
      " 34  hour                         12316 non-null  int64         \n",
      " 35  day_period                   12316 non-null  object        \n",
      "dtypes: datetime64[ns](1), int64(5), object(30)\n",
      "memory usage: 3.4+ MB\n"
     ]
    }
   ],
   "source": [
    "df.info()"
   ]
  },
  {
   "cell_type": "code",
   "execution_count": 1118,
   "metadata": {},
   "outputs": [],
   "source": [
    "# important Educational_level"
   ]
  },
  {
   "cell_type": "code",
   "execution_count": 1119,
   "metadata": {},
   "outputs": [
    {
     "data": {
      "text/plain": [
       "Types_of_Junction  Accident_severity\n",
       "Y Shape            Slight Injury        3857\n",
       "No junction        Slight Injury        3185\n",
       "Crossing           Slight Injury        1920\n",
       "Y Shape            Serious Injury        633\n",
       "No junction        Serious Injury        581\n",
       "Other              Slight Injury         360\n",
       "Crossing           Serious Injury        245\n",
       "Unknown            Slight Injury         163\n",
       "O Shape            Slight Injury         137\n",
       "Other              Serious Injury         83\n",
       "No junction        Fatal injury           71\n",
       "T Shape            Slight Injury          53\n",
       "Y Shape            Fatal injury           53\n",
       "O Shape            Serious Injury         26\n",
       "Unknown            Serious Injury         26\n",
       "X Shape            Slight Injury          12\n",
       "Crossing           Fatal injury           12\n",
       "T Shape            Serious Injury          7\n",
       "Other              Fatal injury            2\n",
       "Unknown            Fatal injury            2\n",
       "O Shape            Fatal injury            1\n",
       "Name: Accident_severity, dtype: int64"
      ]
     },
     "execution_count": 1119,
     "metadata": {},
     "output_type": "execute_result"
    }
   ],
   "source": [
    "df.groupby('Types_of_Junction')['Accident_severity'].value_counts().sort_values(ascending=False)"
   ]
  },
  {
   "cell_type": "code",
   "execution_count": 1120,
   "metadata": {},
   "outputs": [
    {
     "data": {
      "text/plain": [
       "[Text(0, 0, 'No junction'),\n",
       " Text(1, 0, 'Y Shape'),\n",
       " Text(2, 0, 'Crossing'),\n",
       " Text(3, 0, 'O Shape'),\n",
       " Text(4, 0, 'Other'),\n",
       " Text(5, 0, 'Unknown'),\n",
       " Text(6, 0, 'T Shape'),\n",
       " Text(7, 0, 'X Shape')]"
      ]
     },
     "execution_count": 1120,
     "metadata": {},
     "output_type": "execute_result"
    },
    {
     "data": {
      "image/png": "[encoded data removed]",
      "text/plain": [
       "<Figure size 1080x576 with 1 Axes>"
      ]
     },
     "metadata": {},
     "output_type": "display_data"
    }
   ],
   "source": [
    "plt.figure(figsize=[15,8])\n",
    "b=sns.countplot(x='Types_of_Junction',hue='Accident_severity',data=df)\n",
    "plt.title('Types_of_Junction')\n",
    "b.set_xticklabels(b.get_xmajorticklabels(), size = 15)"
   ]
  },
  {
   "cell_type": "code",
   "execution_count": 1121,
   "metadata": {},
   "outputs": [
    {
     "data": {
      "text/plain": [
       "Type_of_collision                        Accident_severity\n",
       "Vehicle with vehicle collision           Slight Injury        7467\n",
       "Collision with roadside objects          Slight Injury        1490\n",
       "Vehicle with vehicle collision           Serious Injury       1203\n",
       "Collision with pedestrians               Slight Injury         733\n",
       "Rollover                                 Slight Injury         339\n",
       "Collision with roadside objects          Serious Injury        272\n",
       "Collision with animals                   Slight Injury         142\n",
       "Collision with pedestrians               Serious Injury        141\n",
       "Vehicle with vehicle collision           Fatal injury          104\n",
       "Rollover                                 Serious Injury         54\n",
       "Collision with roadside-parked vehicles  Slight Injury          49\n",
       "Fall from vehicles                       Slight Injury          30\n",
       "Collision with animals                   Serious Injury         27\n",
       "Collision with roadside objects          Fatal injury           24\n",
       "Other                                    Slight Injury          23\n",
       "Collision with pedestrians               Fatal injury           22\n",
       "Unknown                                  Slight Injury          13\n",
       "With Train                               Slight Injury           7\n",
       "Collision with roadside-parked vehicles  Serious Injury          5\n",
       "Fall from vehicles                       Serious Injury          4\n",
       "Rollover                                 Fatal injury            4\n",
       "Other                                    Serious Injury          3\n",
       "Collision with animals                   Fatal injury            2\n",
       "With Train                               Serious Injury          2\n",
       "Unknown                                  Serious Injury          1\n",
       "Name: Accident_severity, dtype: int64"
      ]
     },
     "execution_count": 1121,
     "metadata": {},
     "output_type": "execute_result"
    }
   ],
   "source": [
    "df.groupby('Type_of_collision')['Accident_severity'].value_counts().sort_values(ascending=False)"
   ]
  },
  {
   "cell_type": "code",
   "execution_count": 1122,
   "metadata": {},
   "outputs": [
    {
     "data": {
      "text/plain": [
       "Educational_level   Accident_severity\n",
       "Junior high school  Slight Injury        6439\n",
       "Elementary school   Slight Injury        1825\n",
       "Junior high school  Serious Injury       1083\n",
       "High school         Slight Injury         949\n",
       "Elementary school   Serious Injury        314\n",
       "Above high school   Slight Injury         304\n",
       "Writing & reading   Slight Injury         151\n",
       "High school         Serious Injury        146\n",
       "Junior high school  Fatal injury           97\n",
       "Unknown             Slight Injury          80\n",
       "Above high school   Serious Injury         53\n",
       "Illiterate          Slight Injury          39\n",
       "Elementary school   Fatal injury           24\n",
       "Writing & reading   Serious Injury         22\n",
       "Unknown             Serious Injury         20\n",
       "High school         Fatal injury           15\n",
       "Illiterate          Serious Injury          6\n",
       "Above high school   Fatal injury            5\n",
       "Writing & reading   Fatal injury            3\n",
       "Name: Accident_severity, dtype: int64"
      ]
     },
     "execution_count": 1122,
     "metadata": {},
     "output_type": "execute_result"
    }
   ],
   "source": [
    "df.groupby('Educational_level')['Accident_severity'].value_counts().sort_values(ascending=False)"
   ]
  },
  {
   "cell_type": "code",
   "execution_count": 1123,
   "metadata": {},
   "outputs": [
    {
     "name": "stdout",
     "output_type": "stream",
     "text": [
      "Time\n",
      "['2022-10-07T17:02:00.000000000' '2022-10-07T01:06:00.000000000'\n",
      " '2022-10-07T14:15:00.000000000' ... '2022-10-07T07:24:00.000000000'\n",
      " '2022-10-07T19:18:00.000000000' '2022-10-07T02:47:00.000000000']\n",
      "Day_of_week\n",
      "['Monday' 'Sunday' 'Friday' 'Wednesday' 'Saturday' 'Thursday' 'Tuesday']\n",
      "Age_band_of_driver\n",
      "['18-30' '31-50' 'Under 18' 'Over 51' 'Unknown']\n",
      "Sex_of_driver\n",
      "['Male' 'Female' 'Unknown']\n",
      "Educational_level\n",
      "['Above high school' 'Junior high school' nan 'Elementary school'\n",
      " 'High school' 'Unknown' 'Illiterate' 'Writing & reading']\n",
      "Vehicle_driver_relation\n",
      "['Employee' 'Unknown' 'Owner' nan 'Other']\n",
      "Driving_experience\n",
      "['1-2yr' 'Above 10yr' '5-10yr' '2-5yr' nan 'No Licence' 'Below 1yr'\n",
      " 'unknown']\n",
      "Type_of_vehicle\n",
      "['Automobile' 'Public (> 45 seats)' 'Lorry (41?100Q)' nan\n",
      " 'Public (13?45 seats)' 'Lorry (11?40Q)' 'Long lorry' 'Public (12 seats)'\n",
      " 'Taxi' 'Pick up upto 10Q' 'Stationwagen' 'Ridden horse' 'Other' 'Bajaj'\n",
      " 'Turbo' 'Motorcycle' 'Special vehicle' 'Bicycle']\n",
      "Owner_of_vehicle\n",
      "['Owner' 'Governmental' nan 'Organization' 'Other']\n",
      "Service_year_of_vehicle\n",
      "['Above 10yr' '5-10yrs' nan '1-2yr' '2-5yrs' 'Unknown' 'Below 1yr']\n",
      "Defect_of_vehicle\n",
      "['No defect' nan '7' '5']\n",
      "Area_accident_occured\n",
      "['Residential areas' 'Office areas' '  Recreational areas'\n",
      " ' Industrial areas' nan 'Other' ' Church areas' '  Market areas'\n",
      " 'Unknown' 'Rural village areas' ' Outside rural areas' ' Hospital areas'\n",
      " 'School areas' 'Rural village areasOffice areas' 'Recreational areas']\n",
      "Lanes_or_Medians\n",
      "[nan 'Undivided Two way' 'other' 'Double carriageway (median)' 'One way'\n",
      " 'Two-way (divided with solid lines road marking)'\n",
      " 'Two-way (divided with broken lines road marking)' 'Unknown']\n",
      "Road_allignment\n",
      "['Tangent road with flat terrain' nan\n",
      " 'Tangent road with mild grade and flat terrain' 'Escarpments'\n",
      " 'Tangent road with rolling terrain' 'Gentle horizontal curve'\n",
      " 'Tangent road with mountainous terrain and'\n",
      " 'Steep grade downward with mountainous terrain' 'Sharp reverse curve'\n",
      " 'Steep grade upward with mountainous terrain']\n",
      "Types_of_Junction\n",
      "['No junction' 'Y Shape' 'Crossing' 'O Shape' 'Other' 'Unknown' 'T Shape'\n",
      " 'X Shape' nan]\n",
      "Road_surface_type\n",
      "['Asphalt roads' 'Earth roads' nan 'Asphalt roads with some distress'\n",
      " 'Gravel roads' 'Other']\n",
      "Road_surface_conditions\n",
      "['Dry' 'Wet or damp' 'Snow' 'Flood over 3cm. deep']\n",
      "Light_conditions\n",
      "['Daylight' 'Darkness - lights lit' 'Darkness - no lighting'\n",
      " 'Darkness - lights unlit']\n",
      "Weather_conditions\n",
      "['Normal' 'Raining' 'Raining and Windy' 'Cloudy' 'Other' 'Windy' 'Snow'\n",
      " 'Unknown' 'Fog or mist']\n",
      "Type_of_collision\n",
      "['Collision with roadside-parked vehicles'\n",
      " 'Vehicle with vehicle collision' 'Collision with roadside objects'\n",
      " 'Collision with animals' 'Other' 'Rollover' 'Fall from vehicles'\n",
      " 'Collision with pedestrians' 'With Train' 'Unknown' nan]\n",
      "Number_of_vehicles_involved\n",
      "[2 1 3 6 4 7]\n",
      "Number_of_casualties\n",
      "[2 1 3 4 6 5 8 7]\n",
      "Vehicle_movement\n",
      "['Going straight' 'U-Turn' 'Moving Backward' 'Turnover' 'Waiting to go'\n",
      " 'Getting off' 'Reversing' 'Unknown' 'Parked' 'Stopping' 'Overtaking'\n",
      " 'Other' 'Entering a junction' nan]\n",
      "Casualty_class\n",
      "['na' 'Driver or rider' 'Pedestrian' 'Passenger']\n",
      "Sex_of_casualty\n",
      "['na' 'Male' 'Female']\n",
      "Age_band_of_casualty\n",
      "['na' '31-50' '18-30' 'Under 18' 'Over 51' '5']\n",
      "Casualty_severity\n",
      "['na' '3' '2' '1']\n",
      "Work_of_casuality\n",
      "[nan 'Driver' 'Other' 'Unemployed' 'Employee' 'Self-employed' 'Student'\n",
      " 'Unknown']\n",
      "Fitness_of_casuality\n",
      "[nan 'Normal' 'Deaf' 'Other' 'Blind' 'NormalNormal']\n",
      "Pedestrian_movement\n",
      "['Not a Pedestrian' \"Crossing from driver's nearside\"\n",
      " 'Crossing from nearside - masked by parked or statioNot a Pedestrianry vehicle'\n",
      " 'Unknown or other'\n",
      " 'Crossing from offside - masked by  parked or statioNot a Pedestrianry vehicle'\n",
      " 'In carriageway, statioNot a Pedestrianry - not crossing  (standing or playing)'\n",
      " 'Walking along in carriageway, back to traffic'\n",
      " 'Walking along in carriageway, facing traffic'\n",
      " 'In carriageway, statioNot a Pedestrianry - not crossing  (standing or playing) - masked by parked or statioNot a Pedestrianry vehicle']\n",
      "Cause_of_accident\n",
      "['Moving Backward' 'Overtaking' 'Changing lane to the left'\n",
      " 'Changing lane to the right' 'Overloading' 'Other'\n",
      " 'No priority to vehicle' 'No priority to pedestrian' 'No distancing'\n",
      " 'Getting off the vehicle improperly' 'Improper parking' 'Overspeed'\n",
      " 'Driving carelessly' 'Driving at high speed' 'Driving to the left'\n",
      " 'Unknown' 'Overturning' 'Turnover' 'Driving under the influence of drugs'\n",
      " 'Drunk driving']\n",
      "Accident_severity\n",
      "['Slight Injury' 'Serious Injury' 'Fatal injury']\n",
      "year\n",
      "[2022]\n",
      "month\n",
      "[10]\n",
      "hour\n",
      "[17  1 14 22  8 15 12 18 13 20 16 21  9 10 19 11 23  7  0  5  6  4  3  2]\n",
      "day_period\n",
      "['afternoon' 'evening' 'morning']\n"
     ]
    }
   ],
   "source": [
    "for i in df.columns :\n",
    "    print (i)\n",
    "    print(df[i].unique())"
   ]
  },
  {
   "cell_type": "markdown",
   "metadata": {},
   "source": [
    "## Cleaning data and handle missing values"
   ]
  },
  {
   "cell_type": "code",
   "execution_count": 1124,
   "metadata": {},
   "outputs": [],
   "source": [
    "df.drop(['Time'],inplace=True,axis=1)"
   ]
  },
  {
   "cell_type": "code",
   "execution_count": 1125,
   "metadata": {},
   "outputs": [
    {
     "data": {
      "text/plain": [
       "18-30       4271\n",
       "31-50       4087\n",
       "Over 51     1585\n",
       "Unknown     1548\n",
       "Under 18     825\n",
       "Name: Age_band_of_driver, dtype: int64"
      ]
     },
     "execution_count": 1125,
     "metadata": {},
     "output_type": "execute_result"
    }
   ],
   "source": [
    "df['Age_band_of_driver'].value_counts()"
   ]
  },
  {
   "cell_type": "code",
   "execution_count": 1126,
   "metadata": {},
   "outputs": [
    {
     "data": {
      "text/plain": [
       "18-30       5819\n",
       "31-50       4087\n",
       "Over 51     1585\n",
       "Under 18     825\n",
       "Name: Age_band_of_driver, dtype: int64"
      ]
     },
     "execution_count": 1126,
     "metadata": {},
     "output_type": "execute_result"
    }
   ],
   "source": [
    "mode = df['Age_band_of_driver'].mode()[0]\n",
    "df['Age_band_of_driver']=df['Age_band_of_driver'].replace('Unknown',mode)\n",
    "df['Age_band_of_driver'].value_counts()"
   ]
  },
  {
   "cell_type": "code",
   "execution_count": 1127,
   "metadata": {},
   "outputs": [
    {
     "data": {
      "text/plain": [
       "Male      11615\n",
       "Female      701\n",
       "Name: Sex_of_driver, dtype: int64"
      ]
     },
     "execution_count": 1127,
     "metadata": {},
     "output_type": "execute_result"
    }
   ],
   "source": [
    "mode = df['Sex_of_driver'].mode()[0]\n",
    "df['Sex_of_driver']=df['Sex_of_driver'].replace('Unknown',mode)\n",
    "df['Sex_of_driver'].value_counts()"
   ]
  },
  {
   "cell_type": "code",
   "execution_count": 1128,
   "metadata": {},
   "outputs": [
    {
     "data": {
      "text/plain": [
       "Junior high school    7719\n",
       "Elementary school     2163\n",
       "High school           1110\n",
       "Above high school      362\n",
       "Writing & reading      176\n",
       "Illiterate              45\n",
       "Name: Educational_level, dtype: int64"
      ]
     },
     "execution_count": 1128,
     "metadata": {},
     "output_type": "execute_result"
    }
   ],
   "source": [
    "mode = df['Educational_level'].mode()[0]\n",
    "df['Educational_level']=df['Educational_level'].replace('Unknown',mode)\n",
    "df['Educational_level'].value_counts()"
   ]
  },
  {
   "cell_type": "code",
   "execution_count": 1129,
   "metadata": {},
   "outputs": [],
   "source": [
    "df['Educational_level'].fillna(mode,inplace=True)\n"
   ]
  },
  {
   "cell_type": "code",
   "execution_count": 1130,
   "metadata": {},
   "outputs": [
    {
     "data": {
      "text/plain": [
       "Employee    9627\n",
       "Owner       1973\n",
       "Other        123\n",
       "Unknown       14\n",
       "Name: Vehicle_driver_relation, dtype: int64"
      ]
     },
     "execution_count": 1130,
     "metadata": {},
     "output_type": "execute_result"
    }
   ],
   "source": [
    "df['Vehicle_driver_relation'].value_counts()"
   ]
  },
  {
   "cell_type": "code",
   "execution_count": 1131,
   "metadata": {},
   "outputs": [
    {
     "data": {
      "text/plain": [
       "Employee    9627\n",
       "Owner       1973\n",
       "Other        123\n",
       "Unknown       14\n",
       "Name: Vehicle_driver_relation, dtype: int64"
      ]
     },
     "execution_count": 1131,
     "metadata": {},
     "output_type": "execute_result"
    }
   ],
   "source": [
    "df['Vehicle_driver_relation'].value_counts()"
   ]
  },
  {
   "cell_type": "code",
   "execution_count": 1132,
   "metadata": {},
   "outputs": [],
   "source": [
    "df.drop(['Vehicle_driver_relation'],axis=1,inplace=True)"
   ]
  },
  {
   "cell_type": "code",
   "execution_count": 1133,
   "metadata": {},
   "outputs": [
    {
     "data": {
      "text/plain": [
       "5-10yr        3396\n",
       "2-5yr         2613\n",
       "Above 10yr    2262\n",
       "1-2yr         1756\n",
       "Below 1yr     1342\n",
       "No Licence     118\n",
       "Name: Driving_experience, dtype: int64"
      ]
     },
     "execution_count": 1133,
     "metadata": {},
     "output_type": "execute_result"
    }
   ],
   "source": [
    "mode = df['Driving_experience'].mode()[0]\n",
    "df['Driving_experience']=df['Driving_experience'].replace('unknown',mode)\n",
    "df['Driving_experience'].value_counts()"
   ]
  },
  {
   "cell_type": "code",
   "execution_count": 1134,
   "metadata": {},
   "outputs": [],
   "source": [
    "df['Driving_experience'].fillna(mode,inplace=True)"
   ]
  },
  {
   "cell_type": "code",
   "execution_count": 1135,
   "metadata": {},
   "outputs": [
    {
     "data": {
      "text/plain": [
       "Automobile              3205\n",
       "Lorry (41?100Q)         2186\n",
       "Other                   1208\n",
       "Pick up upto 10Q         811\n",
       "Public (12 seats)        711\n",
       "Stationwagen             687\n",
       "Lorry (11?40Q)           541\n",
       "Public (13?45 seats)     532\n",
       "Public (> 45 seats)      404\n",
       "Long lorry               383\n",
       "Taxi                     265\n",
       "Motorcycle               177\n",
       "Special vehicle           84\n",
       "Ridden horse              76\n",
       "Turbo                     46\n",
       "Bajaj                     29\n",
       "Bicycle                   21\n",
       "Name: Type_of_vehicle, dtype: int64"
      ]
     },
     "execution_count": 1135,
     "metadata": {},
     "output_type": "execute_result"
    }
   ],
   "source": [
    "mode = df['Type_of_vehicle'].mode()[0]\n",
    "df['Type_of_vehicle']=df['Type_of_vehicle'].replace('unknown',mode)\n",
    "df['Type_of_vehicle'].value_counts()"
   ]
  },
  {
   "cell_type": "code",
   "execution_count": 1136,
   "metadata": {},
   "outputs": [],
   "source": [
    "df['Type_of_vehicle'].fillna(mode,inplace=True)"
   ]
  },
  {
   "cell_type": "code",
   "execution_count": 1137,
   "metadata": {},
   "outputs": [
    {
     "data": {
      "text/plain": [
       "array(['Above 10yr', '5-10yrs', nan, '1-2yr', '2-5yrs', 'Unknown',\n",
       "       'Below 1yr'], dtype=object)"
      ]
     },
     "execution_count": 1137,
     "metadata": {},
     "output_type": "execute_result"
    }
   ],
   "source": [
    "df['Service_year_of_vehicle'].unique()"
   ]
  },
  {
   "cell_type": "code",
   "execution_count": 1138,
   "metadata": {},
   "outputs": [
    {
     "data": {
      "text/plain": [
       "array(['Owner', 'Governmental', nan, 'Organization', 'Other'],\n",
       "      dtype=object)"
      ]
     },
     "execution_count": 1138,
     "metadata": {},
     "output_type": "execute_result"
    }
   ],
   "source": [
    "df['Owner_of_vehicle'].unique()"
   ]
  },
  {
   "cell_type": "code",
   "execution_count": 1139,
   "metadata": {},
   "outputs": [],
   "source": [
    "df.drop(['Owner_of_vehicle'],inplace=True, axis=1)"
   ]
  },
  {
   "cell_type": "code",
   "execution_count": 1140,
   "metadata": {},
   "outputs": [
    {
     "data": {
      "text/plain": [
       "5-10yrs       4163\n",
       "2-5yrs        1792\n",
       "Above 10yr    1324\n",
       "1-2yr          827\n",
       "Below 1yr      282\n",
       "Name: Service_year_of_vehicle, dtype: int64"
      ]
     },
     "execution_count": 1140,
     "metadata": {},
     "output_type": "execute_result"
    }
   ],
   "source": [
    "df['Service_year_of_vehicle']=df['Service_year_of_vehicle'].replace('Unknown','5-10yrs')\n",
    "df['Service_year_of_vehicle'].value_counts()"
   ]
  },
  {
   "cell_type": "code",
   "execution_count": 1141,
   "metadata": {},
   "outputs": [],
   "source": [
    "df['Service_year_of_vehicle'].fillna(mode,inplace=True)"
   ]
  },
  {
   "cell_type": "code",
   "execution_count": 1142,
   "metadata": {},
   "outputs": [
    {
     "data": {
      "text/plain": [
       "array(['No defect', nan, '7', '5'], dtype=object)"
      ]
     },
     "execution_count": 1142,
     "metadata": {},
     "output_type": "execute_result"
    }
   ],
   "source": [
    "df['Defect_of_vehicle'].unique()"
   ]
  },
  {
   "cell_type": "code",
   "execution_count": 1143,
   "metadata": {},
   "outputs": [
    {
     "data": {
      "text/plain": [
       "0    No defect\n",
       "dtype: object"
      ]
     },
     "execution_count": 1143,
     "metadata": {},
     "output_type": "execute_result"
    }
   ],
   "source": [
    "df['Defect_of_vehicle'].mode()"
   ]
  },
  {
   "cell_type": "code",
   "execution_count": 1144,
   "metadata": {},
   "outputs": [],
   "source": [
    "df['Defect_of_vehicle'].fillna('No defect',inplace=True)"
   ]
  },
  {
   "cell_type": "code",
   "execution_count": 1145,
   "metadata": {},
   "outputs": [
    {
     "data": {
      "text/plain": [
       "Other                              3819\n",
       "Office areas                       3451\n",
       "Residential areas                  2060\n",
       " Church areas                      1060\n",
       " Industrial areas                   456\n",
       "School areas                        415\n",
       "  Recreational areas                327\n",
       " Outside rural areas                218\n",
       " Hospital areas                     121\n",
       "  Market areas                       63\n",
       "Rural village areas                  44\n",
       "Unknown                              22\n",
       "Rural village areasOffice areas      20\n",
       "Recreational areas                    1\n",
       "Name: Area_accident_occured, dtype: int64"
      ]
     },
     "execution_count": 1145,
     "metadata": {},
     "output_type": "execute_result"
    }
   ],
   "source": [
    "df['Area_accident_occured'].value_counts()"
   ]
  },
  {
   "cell_type": "code",
   "execution_count": 1146,
   "metadata": {},
   "outputs": [],
   "source": [
    "df['Area_accident_occured'].fillna('Other',inplace=True)"
   ]
  },
  {
   "cell_type": "code",
   "execution_count": 1147,
   "metadata": {},
   "outputs": [],
   "source": [
    "df['Area_accident_occured']=df['Area_accident_occured'].replace('Unknown','Office areas')"
   ]
  },
  {
   "cell_type": "code",
   "execution_count": 1148,
   "metadata": {},
   "outputs": [
    {
     "data": {
      "text/plain": [
       "array([nan, 'Undivided Two way', 'other', 'Double carriageway (median)',\n",
       "       'One way', 'Two-way (divided with solid lines road marking)',\n",
       "       'Two-way (divided with broken lines road marking)', 'Unknown'],\n",
       "      dtype=object)"
      ]
     },
     "execution_count": 1148,
     "metadata": {},
     "output_type": "execute_result"
    }
   ],
   "source": [
    "df['Lanes_or_Medians'].unique()"
   ]
  },
  {
   "cell_type": "code",
   "execution_count": 1149,
   "metadata": {},
   "outputs": [
    {
     "data": {
      "text/plain": [
       "Two-way (divided with broken lines road marking)    4411\n",
       "Undivided Two way                                   3796\n",
       "other                                               1660\n",
       "Double carriageway (median)                         1020\n",
       "One way                                              845\n",
       "Two-way (divided with solid lines road marking)      142\n",
       "Unknown                                               57\n",
       "Name: Lanes_or_Medians, dtype: int64"
      ]
     },
     "execution_count": 1149,
     "metadata": {},
     "output_type": "execute_result"
    }
   ],
   "source": [
    "df['Lanes_or_Medians'].value_counts()"
   ]
  },
  {
   "cell_type": "code",
   "execution_count": 1150,
   "metadata": {},
   "outputs": [],
   "source": [
    "df['Lanes_or_Medians']=df['Lanes_or_Medians'].replace('Unknown','Two-way (divided with broken lines road marking)')\n",
    "df['Lanes_or_Medians'].fillna('Two-way (divided with broken lines road marking)',inplace=True)"
   ]
  },
  {
   "cell_type": "code",
   "execution_count": 1151,
   "metadata": {},
   "outputs": [
    {
     "data": {
      "text/plain": [
       "Tangent road with flat terrain                   10459\n",
       "Tangent road with mild grade and flat terrain      501\n",
       "Steep grade downward with mountainous terrain      429\n",
       "Tangent road with mountainous terrain and          396\n",
       "Gentle horizontal curve                            163\n",
       "Escarpments                                        113\n",
       "Sharp reverse curve                                 57\n",
       "Tangent road with rolling terrain                   37\n",
       "Steep grade upward with mountainous terrain         19\n",
       "Name: Road_allignment, dtype: int64"
      ]
     },
     "execution_count": 1151,
     "metadata": {},
     "output_type": "execute_result"
    }
   ],
   "source": [
    "df['Road_allignment'].value_counts()"
   ]
  },
  {
   "cell_type": "code",
   "execution_count": 1152,
   "metadata": {},
   "outputs": [],
   "source": [
    "df['Road_allignment'].fillna('Road_allignment',inplace=True)"
   ]
  },
  {
   "cell_type": "code",
   "execution_count": 1153,
   "metadata": {},
   "outputs": [
    {
     "data": {
      "text/plain": [
       "Y Shape        4543\n",
       "No junction    3837\n",
       "Crossing       2177\n",
       "Other           445\n",
       "Unknown         191\n",
       "O Shape         164\n",
       "T Shape          60\n",
       "X Shape          12\n",
       "Name: Types_of_Junction, dtype: int64"
      ]
     },
     "execution_count": 1153,
     "metadata": {},
     "output_type": "execute_result"
    }
   ],
   "source": [
    "df['Types_of_Junction'].value_counts()"
   ]
  },
  {
   "cell_type": "code",
   "execution_count": 1154,
   "metadata": {},
   "outputs": [],
   "source": [
    "df['Types_of_Junction']=df['Types_of_Junction'].replace('Unknown','Y Shape')\n",
    "df['Types_of_Junction'].fillna('Y Shape',inplace=True)"
   ]
  },
  {
   "cell_type": "code",
   "execution_count": 1155,
   "metadata": {},
   "outputs": [
    {
     "data": {
      "text/plain": [
       "array(['Collision with roadside-parked vehicles',\n",
       "       'Vehicle with vehicle collision',\n",
       "       'Collision with roadside objects', 'Collision with animals',\n",
       "       'Other', 'Rollover', 'Fall from vehicles',\n",
       "       'Collision with pedestrians', 'With Train', 'Unknown', nan],\n",
       "      dtype=object)"
      ]
     },
     "execution_count": 1155,
     "metadata": {},
     "output_type": "execute_result"
    }
   ],
   "source": [
    "df['Type_of_collision'].unique()"
   ]
  },
  {
   "cell_type": "code",
   "execution_count": 1156,
   "metadata": {},
   "outputs": [],
   "source": [
    "df['Type_of_collision']=df['Type_of_collision'].replace('Unknown','Vehicle with vehicle collision')\n",
    "df['Type_of_collision'].fillna('Vehicle with vehicle collision',inplace=True)"
   ]
  },
  {
   "cell_type": "code",
   "execution_count": 1157,
   "metadata": {},
   "outputs": [
    {
     "data": {
      "text/plain": [
       "array(['Asphalt roads', 'Earth roads', nan,\n",
       "       'Asphalt roads with some distress', 'Gravel roads', 'Other'],\n",
       "      dtype=object)"
      ]
     },
     "execution_count": 1157,
     "metadata": {},
     "output_type": "execute_result"
    }
   ],
   "source": [
    "df['Road_surface_type'].unique()"
   ]
  },
  {
   "cell_type": "code",
   "execution_count": 1158,
   "metadata": {},
   "outputs": [],
   "source": [
    "df.drop('Road_surface_type',axis=1,inplace=True) ## is not important"
   ]
  },
  {
   "cell_type": "code",
   "execution_count": 1159,
   "metadata": {},
   "outputs": [
    {
     "data": {
      "text/plain": [
       "array(['Going straight', 'U-Turn', 'Moving Backward', 'Turnover',\n",
       "       'Waiting to go', 'Getting off', 'Reversing', 'Unknown', 'Parked',\n",
       "       'Stopping', 'Overtaking', 'Other', 'Entering a junction', nan],\n",
       "      dtype=object)"
      ]
     },
     "execution_count": 1159,
     "metadata": {},
     "output_type": "execute_result"
    }
   ],
   "source": [
    "df['Vehicle_movement'].unique()"
   ]
  },
  {
   "cell_type": "code",
   "execution_count": 1160,
   "metadata": {},
   "outputs": [
    {
     "data": {
      "text/plain": [
       "'Going straight'"
      ]
     },
     "execution_count": 1160,
     "metadata": {},
     "output_type": "execute_result"
    }
   ],
   "source": [
    "df['Vehicle_movement'].mode()[0]"
   ]
  },
  {
   "cell_type": "code",
   "execution_count": 1161,
   "metadata": {},
   "outputs": [],
   "source": [
    "df['Vehicle_movement']=df['Vehicle_movement'].replace('Other','Going straight')\n",
    "df['Vehicle_movement'].fillna('Going straight',inplace=True)"
   ]
  },
  {
   "cell_type": "code",
   "execution_count": 1162,
   "metadata": {},
   "outputs": [],
   "source": [
    "df.drop(['Work_of_casuality','Fitness_of_casuality'],axis=1,inplace=True)"
   ]
  },
  {
   "cell_type": "code",
   "execution_count": 1163,
   "metadata": {},
   "outputs": [
    {
     "data": {
      "text/plain": [
       "'Driver or rider'"
      ]
     },
     "execution_count": 1163,
     "metadata": {},
     "output_type": "execute_result"
    }
   ],
   "source": [
    "df['Casualty_class'].mode()[0]"
   ]
  },
  {
   "cell_type": "code",
   "execution_count": 1164,
   "metadata": {},
   "outputs": [
    {
     "data": {
      "text/plain": [
       "'Male'"
      ]
     },
     "execution_count": 1164,
     "metadata": {},
     "output_type": "execute_result"
    }
   ],
   "source": [
    "df['Sex_of_casualty'].mode()[0]"
   ]
  },
  {
   "cell_type": "code",
   "execution_count": 1165,
   "metadata": {},
   "outputs": [
    {
     "data": {
      "text/plain": [
       "'3'"
      ]
     },
     "execution_count": 1165,
     "metadata": {},
     "output_type": "execute_result"
    }
   ],
   "source": [
    "df['Casualty_severity'].mode()[0]"
   ]
  },
  {
   "cell_type": "code",
   "execution_count": 1166,
   "metadata": {},
   "outputs": [
    {
     "data": {
      "text/plain": [
       "'na'"
      ]
     },
     "execution_count": 1166,
     "metadata": {},
     "output_type": "execute_result"
    }
   ],
   "source": [
    "df['Age_band_of_casualty'].mode()[0]"
   ]
  },
  {
   "cell_type": "code",
   "execution_count": 1167,
   "metadata": {},
   "outputs": [
    {
     "data": {
      "text/plain": [
       "na          4443\n",
       "18-30       3145\n",
       "31-50       2455\n",
       "Under 18    1035\n",
       "Over 51      994\n",
       "5            244\n",
       "Name: Age_band_of_casualty, dtype: int64"
      ]
     },
     "execution_count": 1167,
     "metadata": {},
     "output_type": "execute_result"
    }
   ],
   "source": [
    "df['Age_band_of_casualty'].value_counts()"
   ]
  },
  {
   "cell_type": "code",
   "execution_count": 1168,
   "metadata": {},
   "outputs": [],
   "source": [
    "df.drop(['Age_band_of_casualty'],axis=1,inplace=True)"
   ]
  },
  {
   "cell_type": "code",
   "execution_count": 1169,
   "metadata": {},
   "outputs": [],
   "source": [
    "df['Casualty_class'] = df['Casualty_class'].replace('na','Driver or rider')\n",
    "df['Sex_of_casualty'] = df['Sex_of_casualty'].replace('na','Male')\n",
    "df['Casualty_severity'] = df['Casualty_severity'].replace('na','3')"
   ]
  },
  {
   "cell_type": "code",
   "execution_count": 1170,
   "metadata": {},
   "outputs": [],
   "source": [
    "df.drop('Road_surface_conditions',axis=1,inplace=True) ## is not effecting\n",
    "df.drop('Light_conditions',axis=1,inplace=True) ## is not effecting\n",
    "df.drop('Weather_conditions',axis=1,inplace=True) ## is not effecting"
   ]
  },
  {
   "cell_type": "code",
   "execution_count": 1171,
   "metadata": {},
   "outputs": [
    {
     "name": "stdout",
     "output_type": "stream",
     "text": [
      "<class 'pandas.core.frame.DataFrame'>\n",
      "RangeIndex: 12316 entries, 0 to 12315\n",
      "Data columns (total 26 columns):\n",
      " #   Column                       Non-Null Count  Dtype \n",
      "---  ------                       --------------  ----- \n",
      " 0   Day_of_week                  12316 non-null  object\n",
      " 1   Age_band_of_driver           12316 non-null  object\n",
      " 2   Sex_of_driver                12316 non-null  object\n",
      " 3   Educational_level            12316 non-null  object\n",
      " 4   Driving_experience           12316 non-null  object\n",
      " 5   Type_of_vehicle              12316 non-null  object\n",
      " 6   Service_year_of_vehicle      12316 non-null  object\n",
      " 7   Defect_of_vehicle            12316 non-null  object\n",
      " 8   Area_accident_occured        12316 non-null  object\n",
      " 9   Lanes_or_Medians             12316 non-null  object\n",
      " 10  Road_allignment              12316 non-null  object\n",
      " 11  Types_of_Junction            12316 non-null  object\n",
      " 12  Type_of_collision            12316 non-null  object\n",
      " 13  Number_of_vehicles_involved  12316 non-null  int64 \n",
      " 14  Number_of_casualties         12316 non-null  int64 \n",
      " 15  Vehicle_movement             12316 non-null  object\n",
      " 16  Casualty_class               12316 non-null  object\n",
      " 17  Sex_of_casualty              12316 non-null  object\n",
      " 18  Casualty_severity            12316 non-null  object\n",
      " 19  Pedestrian_movement          12316 non-null  object\n",
      " 20  Cause_of_accident            12316 non-null  object\n",
      " 21  Accident_severity            12316 non-null  object\n",
      " 22  year                         12316 non-null  int64 \n",
      " 23  month                        12316 non-null  int64 \n",
      " 24  hour                         12316 non-null  int64 \n",
      " 25  day_period                   12316 non-null  object\n",
      "dtypes: int64(5), object(21)\n",
      "memory usage: 2.4+ MB\n"
     ]
    }
   ],
   "source": [
    "df.info()"
   ]
  },
  {
   "cell_type": "code",
   "execution_count": 1172,
   "metadata": {},
   "outputs": [
    {
     "name": "stdout",
     "output_type": "stream",
     "text": [
      "Day_of_week\n",
      "['Monday' 'Sunday' 'Friday' 'Wednesday' 'Saturday' 'Thursday' 'Tuesday']\n",
      "Age_band_of_driver\n",
      "['18-30' '31-50' 'Under 18' 'Over 51']\n",
      "Sex_of_driver\n",
      "['Male' 'Female']\n",
      "Educational_level\n",
      "['Above high school' 'Junior high school' 'Elementary school'\n",
      " 'High school' 'Illiterate' 'Writing & reading']\n",
      "Driving_experience\n",
      "['1-2yr' 'Above 10yr' '5-10yr' '2-5yr' 'No Licence' 'Below 1yr']\n",
      "Type_of_vehicle\n",
      "['Automobile' 'Public (> 45 seats)' 'Lorry (41?100Q)'\n",
      " 'Public (13?45 seats)' 'Lorry (11?40Q)' 'Long lorry' 'Public (12 seats)'\n",
      " 'Taxi' 'Pick up upto 10Q' 'Stationwagen' 'Ridden horse' 'Other' 'Bajaj'\n",
      " 'Turbo' 'Motorcycle' 'Special vehicle' 'Bicycle']\n",
      "Service_year_of_vehicle\n",
      "['Above 10yr' '5-10yrs' 'Automobile' '1-2yr' '2-5yrs' 'Below 1yr']\n",
      "Defect_of_vehicle\n",
      "['No defect' '7' '5']\n",
      "Area_accident_occured\n",
      "['Residential areas' 'Office areas' '  Recreational areas'\n",
      " ' Industrial areas' 'Other' ' Church areas' '  Market areas'\n",
      " 'Rural village areas' ' Outside rural areas' ' Hospital areas'\n",
      " 'School areas' 'Rural village areasOffice areas' 'Recreational areas']\n",
      "Lanes_or_Medians\n",
      "['Two-way (divided with broken lines road marking)' 'Undivided Two way'\n",
      " 'other' 'Double carriageway (median)' 'One way'\n",
      " 'Two-way (divided with solid lines road marking)']\n",
      "Road_allignment\n",
      "['Tangent road with flat terrain' 'Road_allignment'\n",
      " 'Tangent road with mild grade and flat terrain' 'Escarpments'\n",
      " 'Tangent road with rolling terrain' 'Gentle horizontal curve'\n",
      " 'Tangent road with mountainous terrain and'\n",
      " 'Steep grade downward with mountainous terrain' 'Sharp reverse curve'\n",
      " 'Steep grade upward with mountainous terrain']\n",
      "Types_of_Junction\n",
      "['No junction' 'Y Shape' 'Crossing' 'O Shape' 'Other' 'T Shape' 'X Shape']\n",
      "Type_of_collision\n",
      "['Collision with roadside-parked vehicles'\n",
      " 'Vehicle with vehicle collision' 'Collision with roadside objects'\n",
      " 'Collision with animals' 'Other' 'Rollover' 'Fall from vehicles'\n",
      " 'Collision with pedestrians' 'With Train']\n",
      "Number_of_vehicles_involved\n",
      "[2 1 3 6 4 7]\n",
      "Number_of_casualties\n",
      "[2 1 3 4 6 5 8 7]\n",
      "Vehicle_movement\n",
      "['Going straight' 'U-Turn' 'Moving Backward' 'Turnover' 'Waiting to go'\n",
      " 'Getting off' 'Reversing' 'Unknown' 'Parked' 'Stopping' 'Overtaking'\n",
      " 'Entering a junction']\n",
      "Casualty_class\n",
      "['Driver or rider' 'Pedestrian' 'Passenger']\n",
      "Sex_of_casualty\n",
      "['Male' 'Female']\n",
      "Casualty_severity\n",
      "['3' '2' '1']\n",
      "Pedestrian_movement\n",
      "['Not a Pedestrian' \"Crossing from driver's nearside\"\n",
      " 'Crossing from nearside - masked by parked or statioNot a Pedestrianry vehicle'\n",
      " 'Unknown or other'\n",
      " 'Crossing from offside - masked by  parked or statioNot a Pedestrianry vehicle'\n",
      " 'In carriageway, statioNot a Pedestrianry - not crossing  (standing or playing)'\n",
      " 'Walking along in carriageway, back to traffic'\n",
      " 'Walking along in carriageway, facing traffic'\n",
      " 'In carriageway, statioNot a Pedestrianry - not crossing  (standing or playing) - masked by parked or statioNot a Pedestrianry vehicle']\n",
      "Cause_of_accident\n",
      "['Moving Backward' 'Overtaking' 'Changing lane to the left'\n",
      " 'Changing lane to the right' 'Overloading' 'Other'\n",
      " 'No priority to vehicle' 'No priority to pedestrian' 'No distancing'\n",
      " 'Getting off the vehicle improperly' 'Improper parking' 'Overspeed'\n",
      " 'Driving carelessly' 'Driving at high speed' 'Driving to the left'\n",
      " 'Unknown' 'Overturning' 'Turnover' 'Driving under the influence of drugs'\n",
      " 'Drunk driving']\n",
      "Accident_severity\n",
      "['Slight Injury' 'Serious Injury' 'Fatal injury']\n",
      "year\n",
      "[2022]\n",
      "month\n",
      "[10]\n",
      "hour\n",
      "[17  1 14 22  8 15 12 18 13 20 16 21  9 10 19 11 23  7  0  5  6  4  3  2]\n",
      "day_period\n",
      "['afternoon' 'evening' 'morning']\n"
     ]
    }
   ],
   "source": [
    "for i in df.columns :\n",
    "    print (i)\n",
    "    print(df[i].unique())"
   ]
  },
  {
   "cell_type": "code",
   "execution_count": null,
   "metadata": {},
   "outputs": [],
   "source": []
  },
  {
   "cell_type": "markdown",
   "metadata": {},
   "source": [
    "## Split Data to input and output data "
   ]
  },
  {
   "cell_type": "code",
   "execution_count": 1173,
   "metadata": {},
   "outputs": [],
   "source": [
    "x = df.drop('Accident_severity',axis= 1 )\n",
    "y = df['Accident_severity']"
   ]
  },
  {
   "cell_type": "code",
   "execution_count": 1174,
   "metadata": {},
   "outputs": [
    {
     "data": {
      "text/plain": [
       "Slight Injury     10415\n",
       "Serious Injury     1743\n",
       "Fatal injury        158\n",
       "Name: Accident_severity, dtype: int64"
      ]
     },
     "execution_count": 1174,
     "metadata": {},
     "output_type": "execute_result"
    }
   ],
   "source": [
    "df['Accident_severity'].value_counts()"
   ]
  },
  {
   "cell_type": "markdown",
   "metadata": {},
   "source": [
    "## Dealing with nominal Data\n"
   ]
  },
  {
   "cell_type": "code",
   "execution_count": 1175,
   "metadata": {},
   "outputs": [
    {
     "data": {
      "text/plain": [
       "Index(['Day_of_week', 'Age_band_of_driver', 'Sex_of_driver',\n",
       "       'Educational_level', 'Driving_experience', 'Type_of_vehicle',\n",
       "       'Service_year_of_vehicle', 'Defect_of_vehicle', 'Area_accident_occured',\n",
       "       'Lanes_or_Medians', 'Road_allignment', 'Types_of_Junction',\n",
       "       'Type_of_collision', 'Number_of_vehicles_involved',\n",
       "       'Number_of_casualties', 'Vehicle_movement', 'Casualty_class',\n",
       "       'Sex_of_casualty', 'Casualty_severity', 'Pedestrian_movement',\n",
       "       'Cause_of_accident', 'Accident_severity', 'year', 'month', 'hour',\n",
       "       'day_period'],\n",
       "      dtype='object')"
      ]
     },
     "execution_count": 1175,
     "metadata": {},
     "output_type": "execute_result"
    }
   ],
   "source": [
    "df.columns"
   ]
  },
  {
   "cell_type": "code",
   "execution_count": 1176,
   "metadata": {},
   "outputs": [],
   "source": [
    "df['Casualty_severity'] = pd.to_numeric(df['Casualty_severity'])"
   ]
  },
  {
   "cell_type": "code",
   "execution_count": 1177,
   "metadata": {},
   "outputs": [
    {
     "data": {
      "text/plain": [
       "array(['Driver or rider', 'Pedestrian', 'Passenger'], dtype=object)"
      ]
     },
     "execution_count": 1177,
     "metadata": {},
     "output_type": "execute_result"
    }
   ],
   "source": [
    "df['Casualty_class'].unique()"
   ]
  },
  {
   "cell_type": "code",
   "execution_count": 1178,
   "metadata": {},
   "outputs": [],
   "source": [
    "col = ['Day_of_week','day_period','year','Age_band_of_driver','Sex_of_driver','Educational_level','Driving_experience'\n",
    "       ,'Type_of_vehicle','Service_year_of_vehicle','Defect_of_vehicle','Area_accident_occured','Lanes_or_Medians'\n",
    "       ,'Road_allignment','Types_of_Junction','Type_of_collision','Vehicle_movement','Casualty_class','Sex_of_casualty'\n",
    "       ,'Pedestrian_movement','Cause_of_accident','Accident_severity',]"
   ]
  },
  {
   "cell_type": "code",
   "execution_count": 1179,
   "metadata": {},
   "outputs": [],
   "source": [
    "x = pd.get_dummies(data= df , columns= col ,drop_first= True)"
   ]
  },
  {
   "cell_type": "code",
   "execution_count": 1180,
   "metadata": {},
   "outputs": [
    {
     "data": {
      "text/html": [
       "<div>\n",
       "<style scoped>\n",
       "    .dataframe tbody tr th:only-of-type {\n",
       "        vertical-align: middle;\n",
       "    }\n",
       "\n",
       "    .dataframe tbody tr th {\n",
       "        vertical-align: top;\n",
       "    }\n",
       "\n",
       "    .dataframe thead th {\n",
       "        text-align: right;\n",
       "    }\n",
       "</style>\n",
       "<table border=\"1\" class=\"dataframe\">\n",
       "  <thead>\n",
       "    <tr style=\"text-align: right;\">\n",
       "      <th></th>\n",
       "      <th>Number_of_vehicles_involved</th>\n",
       "      <th>Number_of_casualties</th>\n",
       "      <th>Casualty_severity</th>\n",
       "      <th>month</th>\n",
       "      <th>hour</th>\n",
       "      <th>Day_of_week_Monday</th>\n",
       "      <th>Day_of_week_Saturday</th>\n",
       "      <th>Day_of_week_Sunday</th>\n",
       "      <th>Day_of_week_Thursday</th>\n",
       "      <th>Day_of_week_Tuesday</th>\n",
       "      <th>...</th>\n",
       "      <th>Cause_of_accident_No priority to vehicle</th>\n",
       "      <th>Cause_of_accident_Other</th>\n",
       "      <th>Cause_of_accident_Overloading</th>\n",
       "      <th>Cause_of_accident_Overspeed</th>\n",
       "      <th>Cause_of_accident_Overtaking</th>\n",
       "      <th>Cause_of_accident_Overturning</th>\n",
       "      <th>Cause_of_accident_Turnover</th>\n",
       "      <th>Cause_of_accident_Unknown</th>\n",
       "      <th>Accident_severity_Serious Injury</th>\n",
       "      <th>Accident_severity_Slight Injury</th>\n",
       "    </tr>\n",
       "  </thead>\n",
       "  <tbody>\n",
       "    <tr>\n",
       "      <th>0</th>\n",
       "      <td>2</td>\n",
       "      <td>2</td>\n",
       "      <td>3</td>\n",
       "      <td>10</td>\n",
       "      <td>17</td>\n",
       "      <td>1</td>\n",
       "      <td>0</td>\n",
       "      <td>0</td>\n",
       "      <td>0</td>\n",
       "      <td>0</td>\n",
       "      <td>...</td>\n",
       "      <td>0</td>\n",
       "      <td>0</td>\n",
       "      <td>0</td>\n",
       "      <td>0</td>\n",
       "      <td>0</td>\n",
       "      <td>0</td>\n",
       "      <td>0</td>\n",
       "      <td>0</td>\n",
       "      <td>0</td>\n",
       "      <td>1</td>\n",
       "    </tr>\n",
       "    <tr>\n",
       "      <th>1</th>\n",
       "      <td>2</td>\n",
       "      <td>2</td>\n",
       "      <td>3</td>\n",
       "      <td>10</td>\n",
       "      <td>17</td>\n",
       "      <td>1</td>\n",
       "      <td>0</td>\n",
       "      <td>0</td>\n",
       "      <td>0</td>\n",
       "      <td>0</td>\n",
       "      <td>...</td>\n",
       "      <td>0</td>\n",
       "      <td>0</td>\n",
       "      <td>0</td>\n",
       "      <td>0</td>\n",
       "      <td>1</td>\n",
       "      <td>0</td>\n",
       "      <td>0</td>\n",
       "      <td>0</td>\n",
       "      <td>0</td>\n",
       "      <td>1</td>\n",
       "    </tr>\n",
       "    <tr>\n",
       "      <th>2</th>\n",
       "      <td>2</td>\n",
       "      <td>2</td>\n",
       "      <td>3</td>\n",
       "      <td>10</td>\n",
       "      <td>17</td>\n",
       "      <td>1</td>\n",
       "      <td>0</td>\n",
       "      <td>0</td>\n",
       "      <td>0</td>\n",
       "      <td>0</td>\n",
       "      <td>...</td>\n",
       "      <td>0</td>\n",
       "      <td>0</td>\n",
       "      <td>0</td>\n",
       "      <td>0</td>\n",
       "      <td>0</td>\n",
       "      <td>0</td>\n",
       "      <td>0</td>\n",
       "      <td>0</td>\n",
       "      <td>1</td>\n",
       "      <td>0</td>\n",
       "    </tr>\n",
       "    <tr>\n",
       "      <th>3</th>\n",
       "      <td>2</td>\n",
       "      <td>2</td>\n",
       "      <td>3</td>\n",
       "      <td>10</td>\n",
       "      <td>1</td>\n",
       "      <td>0</td>\n",
       "      <td>0</td>\n",
       "      <td>1</td>\n",
       "      <td>0</td>\n",
       "      <td>0</td>\n",
       "      <td>...</td>\n",
       "      <td>0</td>\n",
       "      <td>0</td>\n",
       "      <td>0</td>\n",
       "      <td>0</td>\n",
       "      <td>0</td>\n",
       "      <td>0</td>\n",
       "      <td>0</td>\n",
       "      <td>0</td>\n",
       "      <td>0</td>\n",
       "      <td>1</td>\n",
       "    </tr>\n",
       "    <tr>\n",
       "      <th>4</th>\n",
       "      <td>2</td>\n",
       "      <td>2</td>\n",
       "      <td>3</td>\n",
       "      <td>10</td>\n",
       "      <td>1</td>\n",
       "      <td>0</td>\n",
       "      <td>0</td>\n",
       "      <td>1</td>\n",
       "      <td>0</td>\n",
       "      <td>0</td>\n",
       "      <td>...</td>\n",
       "      <td>0</td>\n",
       "      <td>0</td>\n",
       "      <td>0</td>\n",
       "      <td>0</td>\n",
       "      <td>1</td>\n",
       "      <td>0</td>\n",
       "      <td>0</td>\n",
       "      <td>0</td>\n",
       "      <td>0</td>\n",
       "      <td>1</td>\n",
       "    </tr>\n",
       "    <tr>\n",
       "      <th>...</th>\n",
       "      <td>...</td>\n",
       "      <td>...</td>\n",
       "      <td>...</td>\n",
       "      <td>...</td>\n",
       "      <td>...</td>\n",
       "      <td>...</td>\n",
       "      <td>...</td>\n",
       "      <td>...</td>\n",
       "      <td>...</td>\n",
       "      <td>...</td>\n",
       "      <td>...</td>\n",
       "      <td>...</td>\n",
       "      <td>...</td>\n",
       "      <td>...</td>\n",
       "      <td>...</td>\n",
       "      <td>...</td>\n",
       "      <td>...</td>\n",
       "      <td>...</td>\n",
       "      <td>...</td>\n",
       "      <td>...</td>\n",
       "      <td>...</td>\n",
       "    </tr>\n",
       "    <tr>\n",
       "      <th>12311</th>\n",
       "      <td>2</td>\n",
       "      <td>1</td>\n",
       "      <td>3</td>\n",
       "      <td>10</td>\n",
       "      <td>16</td>\n",
       "      <td>0</td>\n",
       "      <td>0</td>\n",
       "      <td>0</td>\n",
       "      <td>0</td>\n",
       "      <td>0</td>\n",
       "      <td>...</td>\n",
       "      <td>0</td>\n",
       "      <td>0</td>\n",
       "      <td>0</td>\n",
       "      <td>0</td>\n",
       "      <td>0</td>\n",
       "      <td>0</td>\n",
       "      <td>0</td>\n",
       "      <td>0</td>\n",
       "      <td>0</td>\n",
       "      <td>1</td>\n",
       "    </tr>\n",
       "    <tr>\n",
       "      <th>12312</th>\n",
       "      <td>2</td>\n",
       "      <td>1</td>\n",
       "      <td>3</td>\n",
       "      <td>10</td>\n",
       "      <td>18</td>\n",
       "      <td>0</td>\n",
       "      <td>0</td>\n",
       "      <td>1</td>\n",
       "      <td>0</td>\n",
       "      <td>0</td>\n",
       "      <td>...</td>\n",
       "      <td>0</td>\n",
       "      <td>0</td>\n",
       "      <td>0</td>\n",
       "      <td>0</td>\n",
       "      <td>0</td>\n",
       "      <td>0</td>\n",
       "      <td>0</td>\n",
       "      <td>0</td>\n",
       "      <td>0</td>\n",
       "      <td>1</td>\n",
       "    </tr>\n",
       "    <tr>\n",
       "      <th>12313</th>\n",
       "      <td>1</td>\n",
       "      <td>1</td>\n",
       "      <td>3</td>\n",
       "      <td>10</td>\n",
       "      <td>13</td>\n",
       "      <td>0</td>\n",
       "      <td>0</td>\n",
       "      <td>1</td>\n",
       "      <td>0</td>\n",
       "      <td>0</td>\n",
       "      <td>...</td>\n",
       "      <td>0</td>\n",
       "      <td>0</td>\n",
       "      <td>0</td>\n",
       "      <td>0</td>\n",
       "      <td>0</td>\n",
       "      <td>0</td>\n",
       "      <td>0</td>\n",
       "      <td>0</td>\n",
       "      <td>1</td>\n",
       "      <td>0</td>\n",
       "    </tr>\n",
       "    <tr>\n",
       "      <th>12314</th>\n",
       "      <td>2</td>\n",
       "      <td>1</td>\n",
       "      <td>3</td>\n",
       "      <td>10</td>\n",
       "      <td>13</td>\n",
       "      <td>0</td>\n",
       "      <td>0</td>\n",
       "      <td>1</td>\n",
       "      <td>0</td>\n",
       "      <td>0</td>\n",
       "      <td>...</td>\n",
       "      <td>0</td>\n",
       "      <td>0</td>\n",
       "      <td>0</td>\n",
       "      <td>0</td>\n",
       "      <td>0</td>\n",
       "      <td>0</td>\n",
       "      <td>0</td>\n",
       "      <td>0</td>\n",
       "      <td>0</td>\n",
       "      <td>1</td>\n",
       "    </tr>\n",
       "    <tr>\n",
       "      <th>12315</th>\n",
       "      <td>2</td>\n",
       "      <td>1</td>\n",
       "      <td>3</td>\n",
       "      <td>10</td>\n",
       "      <td>13</td>\n",
       "      <td>0</td>\n",
       "      <td>0</td>\n",
       "      <td>1</td>\n",
       "      <td>0</td>\n",
       "      <td>0</td>\n",
       "      <td>...</td>\n",
       "      <td>0</td>\n",
       "      <td>0</td>\n",
       "      <td>0</td>\n",
       "      <td>0</td>\n",
       "      <td>0</td>\n",
       "      <td>0</td>\n",
       "      <td>0</td>\n",
       "      <td>0</td>\n",
       "      <td>0</td>\n",
       "      <td>1</td>\n",
       "    </tr>\n",
       "  </tbody>\n",
       "</table>\n",
       "<p>12316 rows × 133 columns</p>\n",
       "</div>"
      ],
      "text/plain": [
       "       Number_of_vehicles_involved  Number_of_casualties  Casualty_severity  \\\n",
       "0                                2                     2                  3   \n",
       "1                                2                     2                  3   \n",
       "2                                2                     2                  3   \n",
       "3                                2                     2                  3   \n",
       "4                                2                     2                  3   \n",
       "...                            ...                   ...                ...   \n",
       "12311                            2                     1                  3   \n",
       "12312                            2                     1                  3   \n",
       "12313                            1                     1                  3   \n",
       "12314                            2                     1                  3   \n",
       "12315                            2                     1                  3   \n",
       "\n",
       "       month  hour  Day_of_week_Monday  Day_of_week_Saturday  \\\n",
       "0         10    17                   1                     0   \n",
       "1         10    17                   1                     0   \n",
       "2         10    17                   1                     0   \n",
       "3         10     1                   0                     0   \n",
       "4         10     1                   0                     0   \n",
       "...      ...   ...                 ...                   ...   \n",
       "12311     10    16                   0                     0   \n",
       "12312     10    18                   0                     0   \n",
       "12313     10    13                   0                     0   \n",
       "12314     10    13                   0                     0   \n",
       "12315     10    13                   0                     0   \n",
       "\n",
       "       Day_of_week_Sunday  Day_of_week_Thursday  Day_of_week_Tuesday  ...  \\\n",
       "0                       0                     0                    0  ...   \n",
       "1                       0                     0                    0  ...   \n",
       "2                       0                     0                    0  ...   \n",
       "3                       1                     0                    0  ...   \n",
       "4                       1                     0                    0  ...   \n",
       "...                   ...                   ...                  ...  ...   \n",
       "12311                   0                     0                    0  ...   \n",
       "12312                   1                     0                    0  ...   \n",
       "12313                   1                     0                    0  ...   \n",
       "12314                   1                     0                    0  ...   \n",
       "12315                   1                     0                    0  ...   \n",
       "\n",
       "       Cause_of_accident_No priority to vehicle  Cause_of_accident_Other  \\\n",
       "0                                             0                        0   \n",
       "1                                             0                        0   \n",
       "2                                             0                        0   \n",
       "3                                             0                        0   \n",
       "4                                             0                        0   \n",
       "...                                         ...                      ...   \n",
       "12311                                         0                        0   \n",
       "12312                                         0                        0   \n",
       "12313                                         0                        0   \n",
       "12314                                         0                        0   \n",
       "12315                                         0                        0   \n",
       "\n",
       "       Cause_of_accident_Overloading  Cause_of_accident_Overspeed  \\\n",
       "0                                  0                            0   \n",
       "1                                  0                            0   \n",
       "2                                  0                            0   \n",
       "3                                  0                            0   \n",
       "4                                  0                            0   \n",
       "...                              ...                          ...   \n",
       "12311                              0                            0   \n",
       "12312                              0                            0   \n",
       "12313                              0                            0   \n",
       "12314                              0                            0   \n",
       "12315                              0                            0   \n",
       "\n",
       "       Cause_of_accident_Overtaking  Cause_of_accident_Overturning  \\\n",
       "0                                 0                              0   \n",
       "1                                 1                              0   \n",
       "2                                 0                              0   \n",
       "3                                 0                              0   \n",
       "4                                 1                              0   \n",
       "...                             ...                            ...   \n",
       "12311                             0                              0   \n",
       "12312                             0                              0   \n",
       "12313                             0                              0   \n",
       "12314                             0                              0   \n",
       "12315                             0                              0   \n",
       "\n",
       "       Cause_of_accident_Turnover  Cause_of_accident_Unknown  \\\n",
       "0                               0                          0   \n",
       "1                               0                          0   \n",
       "2                               0                          0   \n",
       "3                               0                          0   \n",
       "4                               0                          0   \n",
       "...                           ...                        ...   \n",
       "12311                           0                          0   \n",
       "12312                           0                          0   \n",
       "12313                           0                          0   \n",
       "12314                           0                          0   \n",
       "12315                           0                          0   \n",
       "\n",
       "       Accident_severity_Serious Injury  Accident_severity_Slight Injury  \n",
       "0                                     0                                1  \n",
       "1                                     0                                1  \n",
       "2                                     1                                0  \n",
       "3                                     0                                1  \n",
       "4                                     0                                1  \n",
       "...                                 ...                              ...  \n",
       "12311                                 0                                1  \n",
       "12312                                 0                                1  \n",
       "12313                                 1                                0  \n",
       "12314                                 0                                1  \n",
       "12315                                 0                                1  \n",
       "\n",
       "[12316 rows x 133 columns]"
      ]
     },
     "execution_count": 1180,
     "metadata": {},
     "output_type": "execute_result"
    }
   ],
   "source": [
    "x"
   ]
  },
  {
   "cell_type": "markdown",
   "metadata": {},
   "source": [
    "## Split Data to train and test"
   ]
  },
  {
   "cell_type": "code",
   "execution_count": 1181,
   "metadata": {},
   "outputs": [],
   "source": [
    "from sklearn.model_selection import train_test_split\n",
    "x_train , x_test , y_train , y_test = train_test_split( x , y ,test_size=0.2,random_state=0,stratify=y)"
   ]
  },
  {
   "cell_type": "code",
   "execution_count": 1182,
   "metadata": {},
   "outputs": [
    {
     "data": {
      "text/plain": [
       "Slight Injury     8331\n",
       "Serious Injury    1394\n",
       "Fatal injury       127\n",
       "Name: Accident_severity, dtype: int64"
      ]
     },
     "execution_count": 1182,
     "metadata": {},
     "output_type": "execute_result"
    }
   ],
   "source": [
    "y_train.value_counts()"
   ]
  },
  {
   "cell_type": "code",
   "execution_count": 1183,
   "metadata": {},
   "outputs": [
    {
     "data": {
      "text/plain": [
       "Slight Injury     2084\n",
       "Serious Injury     349\n",
       "Fatal injury        31\n",
       "Name: Accident_severity, dtype: int64"
      ]
     },
     "execution_count": 1183,
     "metadata": {},
     "output_type": "execute_result"
    }
   ],
   "source": [
    "y_test.value_counts()"
   ]
  },
  {
   "cell_type": "markdown",
   "metadata": {},
   "source": [
    "## Handle imbalanced data"
   ]
  },
  {
   "cell_type": "code",
   "execution_count": 1184,
   "metadata": {},
   "outputs": [],
   "source": [
    "from imblearn.over_sampling import SMOTE\n",
    "\n",
    "smote = SMOTE()"
   ]
  },
  {
   "cell_type": "code",
   "execution_count": 1185,
   "metadata": {},
   "outputs": [],
   "source": [
    "x_train_smote , y_train_smote = smote.fit_resample (x_train,y_train)"
   ]
  },
  {
   "cell_type": "code",
   "execution_count": 1186,
   "metadata": {},
   "outputs": [
    {
     "data": {
      "text/html": [
       "<div>\n",
       "<style scoped>\n",
       "    .dataframe tbody tr th:only-of-type {\n",
       "        vertical-align: middle;\n",
       "    }\n",
       "\n",
       "    .dataframe tbody tr th {\n",
       "        vertical-align: top;\n",
       "    }\n",
       "\n",
       "    .dataframe thead th {\n",
       "        text-align: right;\n",
       "    }\n",
       "</style>\n",
       "<table border=\"1\" class=\"dataframe\">\n",
       "  <thead>\n",
       "    <tr style=\"text-align: right;\">\n",
       "      <th></th>\n",
       "      <th>Number_of_vehicles_involved</th>\n",
       "      <th>Number_of_casualties</th>\n",
       "      <th>Casualty_severity</th>\n",
       "      <th>month</th>\n",
       "      <th>hour</th>\n",
       "      <th>Day_of_week_Monday</th>\n",
       "      <th>Day_of_week_Saturday</th>\n",
       "      <th>Day_of_week_Sunday</th>\n",
       "      <th>Day_of_week_Thursday</th>\n",
       "      <th>Day_of_week_Tuesday</th>\n",
       "      <th>...</th>\n",
       "      <th>Cause_of_accident_No priority to vehicle</th>\n",
       "      <th>Cause_of_accident_Other</th>\n",
       "      <th>Cause_of_accident_Overloading</th>\n",
       "      <th>Cause_of_accident_Overspeed</th>\n",
       "      <th>Cause_of_accident_Overtaking</th>\n",
       "      <th>Cause_of_accident_Overturning</th>\n",
       "      <th>Cause_of_accident_Turnover</th>\n",
       "      <th>Cause_of_accident_Unknown</th>\n",
       "      <th>Accident_severity_Serious Injury</th>\n",
       "      <th>Accident_severity_Slight Injury</th>\n",
       "    </tr>\n",
       "  </thead>\n",
       "  <tbody>\n",
       "    <tr>\n",
       "      <th>0</th>\n",
       "      <td>1</td>\n",
       "      <td>1</td>\n",
       "      <td>3</td>\n",
       "      <td>10</td>\n",
       "      <td>22</td>\n",
       "      <td>0</td>\n",
       "      <td>0</td>\n",
       "      <td>0</td>\n",
       "      <td>0</td>\n",
       "      <td>0</td>\n",
       "      <td>...</td>\n",
       "      <td>0</td>\n",
       "      <td>0</td>\n",
       "      <td>0</td>\n",
       "      <td>0</td>\n",
       "      <td>0</td>\n",
       "      <td>0</td>\n",
       "      <td>0</td>\n",
       "      <td>0</td>\n",
       "      <td>0</td>\n",
       "      <td>1</td>\n",
       "    </tr>\n",
       "    <tr>\n",
       "      <th>1</th>\n",
       "      <td>2</td>\n",
       "      <td>4</td>\n",
       "      <td>3</td>\n",
       "      <td>10</td>\n",
       "      <td>13</td>\n",
       "      <td>1</td>\n",
       "      <td>0</td>\n",
       "      <td>0</td>\n",
       "      <td>0</td>\n",
       "      <td>0</td>\n",
       "      <td>...</td>\n",
       "      <td>0</td>\n",
       "      <td>0</td>\n",
       "      <td>0</td>\n",
       "      <td>0</td>\n",
       "      <td>0</td>\n",
       "      <td>0</td>\n",
       "      <td>0</td>\n",
       "      <td>0</td>\n",
       "      <td>1</td>\n",
       "      <td>0</td>\n",
       "    </tr>\n",
       "    <tr>\n",
       "      <th>2</th>\n",
       "      <td>3</td>\n",
       "      <td>2</td>\n",
       "      <td>3</td>\n",
       "      <td>10</td>\n",
       "      <td>15</td>\n",
       "      <td>0</td>\n",
       "      <td>0</td>\n",
       "      <td>0</td>\n",
       "      <td>1</td>\n",
       "      <td>0</td>\n",
       "      <td>...</td>\n",
       "      <td>0</td>\n",
       "      <td>0</td>\n",
       "      <td>0</td>\n",
       "      <td>0</td>\n",
       "      <td>1</td>\n",
       "      <td>0</td>\n",
       "      <td>0</td>\n",
       "      <td>0</td>\n",
       "      <td>0</td>\n",
       "      <td>1</td>\n",
       "    </tr>\n",
       "    <tr>\n",
       "      <th>3</th>\n",
       "      <td>2</td>\n",
       "      <td>3</td>\n",
       "      <td>3</td>\n",
       "      <td>10</td>\n",
       "      <td>21</td>\n",
       "      <td>0</td>\n",
       "      <td>0</td>\n",
       "      <td>0</td>\n",
       "      <td>0</td>\n",
       "      <td>0</td>\n",
       "      <td>...</td>\n",
       "      <td>0</td>\n",
       "      <td>0</td>\n",
       "      <td>0</td>\n",
       "      <td>0</td>\n",
       "      <td>0</td>\n",
       "      <td>0</td>\n",
       "      <td>0</td>\n",
       "      <td>0</td>\n",
       "      <td>0</td>\n",
       "      <td>1</td>\n",
       "    </tr>\n",
       "    <tr>\n",
       "      <th>4</th>\n",
       "      <td>2</td>\n",
       "      <td>1</td>\n",
       "      <td>3</td>\n",
       "      <td>10</td>\n",
       "      <td>17</td>\n",
       "      <td>0</td>\n",
       "      <td>0</td>\n",
       "      <td>0</td>\n",
       "      <td>1</td>\n",
       "      <td>0</td>\n",
       "      <td>...</td>\n",
       "      <td>0</td>\n",
       "      <td>0</td>\n",
       "      <td>0</td>\n",
       "      <td>0</td>\n",
       "      <td>0</td>\n",
       "      <td>0</td>\n",
       "      <td>0</td>\n",
       "      <td>0</td>\n",
       "      <td>0</td>\n",
       "      <td>1</td>\n",
       "    </tr>\n",
       "    <tr>\n",
       "      <th>...</th>\n",
       "      <td>...</td>\n",
       "      <td>...</td>\n",
       "      <td>...</td>\n",
       "      <td>...</td>\n",
       "      <td>...</td>\n",
       "      <td>...</td>\n",
       "      <td>...</td>\n",
       "      <td>...</td>\n",
       "      <td>...</td>\n",
       "      <td>...</td>\n",
       "      <td>...</td>\n",
       "      <td>...</td>\n",
       "      <td>...</td>\n",
       "      <td>...</td>\n",
       "      <td>...</td>\n",
       "      <td>...</td>\n",
       "      <td>...</td>\n",
       "      <td>...</td>\n",
       "      <td>...</td>\n",
       "      <td>...</td>\n",
       "      <td>...</td>\n",
       "    </tr>\n",
       "    <tr>\n",
       "      <th>24988</th>\n",
       "      <td>3</td>\n",
       "      <td>2</td>\n",
       "      <td>3</td>\n",
       "      <td>10</td>\n",
       "      <td>17</td>\n",
       "      <td>0</td>\n",
       "      <td>0</td>\n",
       "      <td>0</td>\n",
       "      <td>0</td>\n",
       "      <td>0</td>\n",
       "      <td>...</td>\n",
       "      <td>0</td>\n",
       "      <td>0</td>\n",
       "      <td>0</td>\n",
       "      <td>0</td>\n",
       "      <td>0</td>\n",
       "      <td>0</td>\n",
       "      <td>0</td>\n",
       "      <td>0</td>\n",
       "      <td>1</td>\n",
       "      <td>0</td>\n",
       "    </tr>\n",
       "    <tr>\n",
       "      <th>24989</th>\n",
       "      <td>1</td>\n",
       "      <td>1</td>\n",
       "      <td>3</td>\n",
       "      <td>10</td>\n",
       "      <td>21</td>\n",
       "      <td>0</td>\n",
       "      <td>0</td>\n",
       "      <td>0</td>\n",
       "      <td>0</td>\n",
       "      <td>0</td>\n",
       "      <td>...</td>\n",
       "      <td>0</td>\n",
       "      <td>0</td>\n",
       "      <td>0</td>\n",
       "      <td>0</td>\n",
       "      <td>0</td>\n",
       "      <td>0</td>\n",
       "      <td>0</td>\n",
       "      <td>0</td>\n",
       "      <td>1</td>\n",
       "      <td>0</td>\n",
       "    </tr>\n",
       "    <tr>\n",
       "      <th>24990</th>\n",
       "      <td>2</td>\n",
       "      <td>1</td>\n",
       "      <td>3</td>\n",
       "      <td>10</td>\n",
       "      <td>13</td>\n",
       "      <td>0</td>\n",
       "      <td>0</td>\n",
       "      <td>0</td>\n",
       "      <td>0</td>\n",
       "      <td>0</td>\n",
       "      <td>...</td>\n",
       "      <td>0</td>\n",
       "      <td>0</td>\n",
       "      <td>0</td>\n",
       "      <td>0</td>\n",
       "      <td>0</td>\n",
       "      <td>0</td>\n",
       "      <td>0</td>\n",
       "      <td>0</td>\n",
       "      <td>1</td>\n",
       "      <td>0</td>\n",
       "    </tr>\n",
       "    <tr>\n",
       "      <th>24991</th>\n",
       "      <td>1</td>\n",
       "      <td>1</td>\n",
       "      <td>3</td>\n",
       "      <td>10</td>\n",
       "      <td>16</td>\n",
       "      <td>0</td>\n",
       "      <td>0</td>\n",
       "      <td>0</td>\n",
       "      <td>0</td>\n",
       "      <td>0</td>\n",
       "      <td>...</td>\n",
       "      <td>0</td>\n",
       "      <td>0</td>\n",
       "      <td>0</td>\n",
       "      <td>0</td>\n",
       "      <td>0</td>\n",
       "      <td>0</td>\n",
       "      <td>0</td>\n",
       "      <td>0</td>\n",
       "      <td>1</td>\n",
       "      <td>0</td>\n",
       "    </tr>\n",
       "    <tr>\n",
       "      <th>24992</th>\n",
       "      <td>3</td>\n",
       "      <td>4</td>\n",
       "      <td>3</td>\n",
       "      <td>10</td>\n",
       "      <td>19</td>\n",
       "      <td>0</td>\n",
       "      <td>0</td>\n",
       "      <td>0</td>\n",
       "      <td>0</td>\n",
       "      <td>0</td>\n",
       "      <td>...</td>\n",
       "      <td>0</td>\n",
       "      <td>0</td>\n",
       "      <td>0</td>\n",
       "      <td>0</td>\n",
       "      <td>0</td>\n",
       "      <td>0</td>\n",
       "      <td>0</td>\n",
       "      <td>0</td>\n",
       "      <td>1</td>\n",
       "      <td>0</td>\n",
       "    </tr>\n",
       "  </tbody>\n",
       "</table>\n",
       "<p>24993 rows × 133 columns</p>\n",
       "</div>"
      ],
      "text/plain": [
       "       Number_of_vehicles_involved  Number_of_casualties  Casualty_severity  \\\n",
       "0                                1                     1                  3   \n",
       "1                                2                     4                  3   \n",
       "2                                3                     2                  3   \n",
       "3                                2                     3                  3   \n",
       "4                                2                     1                  3   \n",
       "...                            ...                   ...                ...   \n",
       "24988                            3                     2                  3   \n",
       "24989                            1                     1                  3   \n",
       "24990                            2                     1                  3   \n",
       "24991                            1                     1                  3   \n",
       "24992                            3                     4                  3   \n",
       "\n",
       "       month  hour  Day_of_week_Monday  Day_of_week_Saturday  \\\n",
       "0         10    22                   0                     0   \n",
       "1         10    13                   1                     0   \n",
       "2         10    15                   0                     0   \n",
       "3         10    21                   0                     0   \n",
       "4         10    17                   0                     0   \n",
       "...      ...   ...                 ...                   ...   \n",
       "24988     10    17                   0                     0   \n",
       "24989     10    21                   0                     0   \n",
       "24990     10    13                   0                     0   \n",
       "24991     10    16                   0                     0   \n",
       "24992     10    19                   0                     0   \n",
       "\n",
       "       Day_of_week_Sunday  Day_of_week_Thursday  Day_of_week_Tuesday  ...  \\\n",
       "0                       0                     0                    0  ...   \n",
       "1                       0                     0                    0  ...   \n",
       "2                       0                     1                    0  ...   \n",
       "3                       0                     0                    0  ...   \n",
       "4                       0                     1                    0  ...   \n",
       "...                   ...                   ...                  ...  ...   \n",
       "24988                   0                     0                    0  ...   \n",
       "24989                   0                     0                    0  ...   \n",
       "24990                   0                     0                    0  ...   \n",
       "24991                   0                     0                    0  ...   \n",
       "24992                   0                     0                    0  ...   \n",
       "\n",
       "       Cause_of_accident_No priority to vehicle  Cause_of_accident_Other  \\\n",
       "0                                             0                        0   \n",
       "1                                             0                        0   \n",
       "2                                             0                        0   \n",
       "3                                             0                        0   \n",
       "4                                             0                        0   \n",
       "...                                         ...                      ...   \n",
       "24988                                         0                        0   \n",
       "24989                                         0                        0   \n",
       "24990                                         0                        0   \n",
       "24991                                         0                        0   \n",
       "24992                                         0                        0   \n",
       "\n",
       "       Cause_of_accident_Overloading  Cause_of_accident_Overspeed  \\\n",
       "0                                  0                            0   \n",
       "1                                  0                            0   \n",
       "2                                  0                            0   \n",
       "3                                  0                            0   \n",
       "4                                  0                            0   \n",
       "...                              ...                          ...   \n",
       "24988                              0                            0   \n",
       "24989                              0                            0   \n",
       "24990                              0                            0   \n",
       "24991                              0                            0   \n",
       "24992                              0                            0   \n",
       "\n",
       "       Cause_of_accident_Overtaking  Cause_of_accident_Overturning  \\\n",
       "0                                 0                              0   \n",
       "1                                 0                              0   \n",
       "2                                 1                              0   \n",
       "3                                 0                              0   \n",
       "4                                 0                              0   \n",
       "...                             ...                            ...   \n",
       "24988                             0                              0   \n",
       "24989                             0                              0   \n",
       "24990                             0                              0   \n",
       "24991                             0                              0   \n",
       "24992                             0                              0   \n",
       "\n",
       "       Cause_of_accident_Turnover  Cause_of_accident_Unknown  \\\n",
       "0                               0                          0   \n",
       "1                               0                          0   \n",
       "2                               0                          0   \n",
       "3                               0                          0   \n",
       "4                               0                          0   \n",
       "...                           ...                        ...   \n",
       "24988                           0                          0   \n",
       "24989                           0                          0   \n",
       "24990                           0                          0   \n",
       "24991                           0                          0   \n",
       "24992                           0                          0   \n",
       "\n",
       "       Accident_severity_Serious Injury  Accident_severity_Slight Injury  \n",
       "0                                     0                                1  \n",
       "1                                     1                                0  \n",
       "2                                     0                                1  \n",
       "3                                     0                                1  \n",
       "4                                     0                                1  \n",
       "...                                 ...                              ...  \n",
       "24988                                 1                                0  \n",
       "24989                                 1                                0  \n",
       "24990                                 1                                0  \n",
       "24991                                 1                                0  \n",
       "24992                                 1                                0  \n",
       "\n",
       "[24993 rows x 133 columns]"
      ]
     },
     "execution_count": 1186,
     "metadata": {},
     "output_type": "execute_result"
    }
   ],
   "source": [
    "x_train_smote"
   ]
  },
  {
   "cell_type": "code",
   "execution_count": 1187,
   "metadata": {},
   "outputs": [
    {
     "data": {
      "text/plain": [
       "Serious Injury    8331\n",
       "Slight Injury     8331\n",
       "Fatal injury      8331\n",
       "Name: Accident_severity, dtype: int64"
      ]
     },
     "execution_count": 1187,
     "metadata": {},
     "output_type": "execute_result"
    }
   ],
   "source": [
    "y_train_smote.value_counts()"
   ]
  }
 ],
 "metadata": {
  "kernelspec": {
   "display_name": "Python 3.8.8 ('base')",
   "language": "python",
   "name": "python3"
  },
  "language_info": {
   "codemirror_mode": {
    "name": "ipython",
    "version": 3
   },
   "file_extension": ".py",
   "mimetype": "text/x-python",
   "name": "python",
   "nbconvert_exporter": "python",
   "pygments_lexer": "ipython3",
   "version": "3.8.8"
  },
  "orig_nbformat": 4,
  "vscode": {
   "interpreter": {
    "hash": "7b11c05ff7279c799ad86707babb29ad62f064a5eac3e97305b3f6aa34df463b"
   }
  }
 },
 "nbformat": 4,
 "nbformat_minor": 2
}
